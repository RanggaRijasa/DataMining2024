{
 "cells": [
  {
   "cell_type": "markdown",
   "metadata": {
    "id": "WwPdHlwOFBXS"
   },
   "source": [
    "## Exercise 2 : Clustering Method\n",
    "In this exercise we will explore how each clustering algorithm discussed in the class works.\n",
    "\n",
    "Rangga Rijasa - 0706022210019"
   ]
  },
  {
   "cell_type": "markdown",
   "metadata": {
    "id": "7_llGj-cFj11"
   },
   "source": [
    "### Import Library"
   ]
  },
  {
   "cell_type": "markdown",
   "metadata": {
    "id": "Q93i8D5M3orJ"
   },
   "source": [
    "Import the necessary libraries"
   ]
  },
  {
   "cell_type": "code",
   "execution_count": 2,
   "metadata": {
    "colab": {
     "base_uri": "https://localhost:8080/"
    },
    "id": "InthM3ox1VA1",
    "outputId": "20cadf95-7423-4753-e269-2f7c3660b50b"
   },
   "outputs": [
    {
     "name": "stdout",
     "output_type": "stream",
     "text": [
      "Requirement already satisfied: kneed in c:\\anaconda\\lib\\site-packages (0.8.5)\n",
      "Requirement already satisfied: numpy>=1.14.2 in c:\\anaconda\\lib\\site-packages (from kneed) (1.26.4)\n",
      "Requirement already satisfied: scipy>=1.0.0 in c:\\anaconda\\lib\\site-packages (from kneed) (1.12.0)\n"
     ]
    }
   ],
   "source": [
    "!pip install kneed\n",
    "from kneed import KneeLocator\n",
    "import numpy as np\n",
    "import pandas as pd\n",
    "import seaborn as sns\n",
    "from sklearn.preprocessing import LabelEncoder, StandardScaler\n",
    "from matplotlib import pyplot as plt\n",
    "import scipy.cluster.hierarchy as sch\n",
    "from sklearn.cluster import AgglomerativeClustering, KMeans\n",
    "from scipy.cluster.hierarchy import fcluster, linkage, dendrogram\n",
    "from sklearn.metrics import davies_bouldin_score, silhouette_score\n",
    "from sklearn.impute import SimpleImputer\n",
    "import scipy.cluster.hierarchy as sch"
   ]
  },
  {
   "cell_type": "markdown",
   "metadata": {
    "id": "hJ_0lJcgFrHB"
   },
   "source": [
    "### Load Dataset\n",
    "The dataset that we will use is a **Property Dataset**. In this dataset there will be 11 features including: <br>\n",
    "- Area Category,\n",
    "- Luas Tanah (m2),\n",
    "- Luas Bangunan (m2),\n",
    "- Jumlah Kamar,\n",
    "- Jumlah Kamar Mandi,\n",
    "- Tingkat/Lantai,\n",
    "- Harga Penawaran (dari Owner),\n",
    "- Terjual/Belum,\n",
    "- Arah Hadap Rumah,\n",
    "- Posisi Rumah,\n",
    "- Lebar Jalan Depan Rumah (ROW). <br>\n",
    "\n",
    "You can get the dataset from **Elearn**"
   ]
  },
  {
   "cell_type": "markdown",
   "metadata": {
    "id": "5kQApGMa30nv"
   },
   "source": [
    "Load dataset"
   ]
  },
  {
   "cell_type": "code",
   "execution_count": 3,
   "metadata": {
    "colab": {
     "base_uri": "https://localhost:8080/",
     "height": 292
    },
    "id": "RSXKxZMJ32tQ",
    "outputId": "7b4e5a37-0b47-4325-84b6-8a21f4f44336"
   },
   "outputs": [
    {
     "data": {
      "text/html": [
       "<div>\n",
       "<style scoped>\n",
       "    .dataframe tbody tr th:only-of-type {\n",
       "        vertical-align: middle;\n",
       "    }\n",
       "\n",
       "    .dataframe tbody tr th {\n",
       "        vertical-align: top;\n",
       "    }\n",
       "\n",
       "    .dataframe thead th {\n",
       "        text-align: right;\n",
       "    }\n",
       "</style>\n",
       "<table border=\"1\" class=\"dataframe\">\n",
       "  <thead>\n",
       "    <tr style=\"text-align: right;\">\n",
       "      <th></th>\n",
       "      <th>Area Category</th>\n",
       "      <th>Nama Daerah</th>\n",
       "      <th>Luas Tanah (m2)</th>\n",
       "      <th>Luas Bangunan (m2)</th>\n",
       "      <th>Jumlah Kamar</th>\n",
       "      <th>Jumlah Kamar Mandi</th>\n",
       "      <th>Tingkat/Lantai</th>\n",
       "      <th>Harga Penawaran (dari Owner)</th>\n",
       "      <th>Terjual/Belum</th>\n",
       "      <th>Arah Hadap Rumah</th>\n",
       "      <th>Posisi Rumah</th>\n",
       "      <th>Lebar Jalan Depan Rumah (ROW)</th>\n",
       "    </tr>\n",
       "  </thead>\n",
       "  <tbody>\n",
       "    <tr>\n",
       "      <th>0</th>\n",
       "      <td>NaN</td>\n",
       "      <td>NaN</td>\n",
       "      <td>NaN</td>\n",
       "      <td>NaN</td>\n",
       "      <td>NaN</td>\n",
       "      <td>NaN</td>\n",
       "      <td>NaN</td>\n",
       "      <td>NaN</td>\n",
       "      <td>NaN</td>\n",
       "      <td>NaN</td>\n",
       "      <td>NaN</td>\n",
       "      <td>NaN</td>\n",
       "    </tr>\n",
       "    <tr>\n",
       "      <th>1</th>\n",
       "      <td>Below Standard</td>\n",
       "      <td>Setro Baru Utara</td>\n",
       "      <td>30.0</td>\n",
       "      <td>60.0</td>\n",
       "      <td>2.0</td>\n",
       "      <td>1.0</td>\n",
       "      <td>2.0</td>\n",
       "      <td>287799000</td>\n",
       "      <td>Belum</td>\n",
       "      <td>NaN</td>\n",
       "      <td>Standard</td>\n",
       "      <td>&lt; 1 Mobil</td>\n",
       "    </tr>\n",
       "    <tr>\n",
       "      <th>2</th>\n",
       "      <td>Standard</td>\n",
       "      <td>Kenjeran</td>\n",
       "      <td>170.0</td>\n",
       "      <td>170.0</td>\n",
       "      <td>5.0</td>\n",
       "      <td>4.0</td>\n",
       "      <td>2.0</td>\n",
       "      <td>2699999999</td>\n",
       "      <td>Belum</td>\n",
       "      <td>Selatan</td>\n",
       "      <td>Cul De Sac/Ujung Gang Buntu</td>\n",
       "      <td>1-2 Mobil</td>\n",
       "    </tr>\n",
       "    <tr>\n",
       "      <th>3</th>\n",
       "      <td>Sangat Premium</td>\n",
       "      <td>Kenjeran</td>\n",
       "      <td>187.0</td>\n",
       "      <td>250.0</td>\n",
       "      <td>5.0</td>\n",
       "      <td>5.0</td>\n",
       "      <td>2.0</td>\n",
       "      <td>3100000000</td>\n",
       "      <td>Belum</td>\n",
       "      <td>Utara</td>\n",
       "      <td>Standard</td>\n",
       "      <td>1-2 Mobil</td>\n",
       "    </tr>\n",
       "    <tr>\n",
       "      <th>4</th>\n",
       "      <td>Premium</td>\n",
       "      <td>Kenjeran</td>\n",
       "      <td>350.0</td>\n",
       "      <td>600.0</td>\n",
       "      <td>5.0</td>\n",
       "      <td>5.0</td>\n",
       "      <td>2.0</td>\n",
       "      <td>5000000000</td>\n",
       "      <td>Belum</td>\n",
       "      <td>Barat</td>\n",
       "      <td>Standard</td>\n",
       "      <td>1-2 Mobil</td>\n",
       "    </tr>\n",
       "  </tbody>\n",
       "</table>\n",
       "</div>"
      ],
      "text/plain": [
       "    Area Category       Nama Daerah  Luas Tanah (m2)  Luas Bangunan (m2)  \\\n",
       "0             NaN               NaN              NaN                 NaN   \n",
       "1  Below Standard  Setro Baru Utara             30.0                60.0   \n",
       "2        Standard          Kenjeran            170.0               170.0   \n",
       "3  Sangat Premium          Kenjeran            187.0               250.0   \n",
       "4         Premium          Kenjeran            350.0               600.0   \n",
       "\n",
       "   Jumlah Kamar  Jumlah Kamar Mandi  Tingkat/Lantai   \\\n",
       "0           NaN                 NaN              NaN   \n",
       "1           2.0                 1.0              2.0   \n",
       "2           5.0                 4.0              2.0   \n",
       "3           5.0                 5.0              2.0   \n",
       "4           5.0                 5.0              2.0   \n",
       "\n",
       "  Harga Penawaran (dari Owner) Terjual/Belum Arah Hadap Rumah  \\\n",
       "0                          NaN           NaN              NaN   \n",
       "1                    287799000         Belum              NaN   \n",
       "2                   2699999999         Belum          Selatan   \n",
       "3                   3100000000         Belum            Utara   \n",
       "4                   5000000000         Belum            Barat   \n",
       "\n",
       "                  Posisi Rumah Lebar Jalan Depan Rumah (ROW)  \n",
       "0                          NaN                           NaN  \n",
       "1                     Standard                     < 1 Mobil  \n",
       "2  Cul De Sac/Ujung Gang Buntu                     1-2 Mobil  \n",
       "3                     Standard                     1-2 Mobil  \n",
       "4                     Standard                     1-2 Mobil  "
      ]
     },
     "execution_count": 3,
     "metadata": {},
     "output_type": "execute_result"
    }
   ],
   "source": [
    "df = pd.read_csv('https://raw.githubusercontent.com/RanggaRijasa/DataMining2024/refs/heads/main/property_dataset.csv')\n",
    "df.head()"
   ]
  },
  {
   "cell_type": "code",
   "execution_count": 4,
   "metadata": {
    "colab": {
     "base_uri": "https://localhost:8080/",
     "height": 300
    },
    "id": "REIB_55O6dWa",
    "outputId": "6447aee3-a4a4-4af9-f7e8-a67f814636f7"
   },
   "outputs": [
    {
     "data": {
      "text/html": [
       "<div>\n",
       "<style scoped>\n",
       "    .dataframe tbody tr th:only-of-type {\n",
       "        vertical-align: middle;\n",
       "    }\n",
       "\n",
       "    .dataframe tbody tr th {\n",
       "        vertical-align: top;\n",
       "    }\n",
       "\n",
       "    .dataframe thead th {\n",
       "        text-align: right;\n",
       "    }\n",
       "</style>\n",
       "<table border=\"1\" class=\"dataframe\">\n",
       "  <thead>\n",
       "    <tr style=\"text-align: right;\">\n",
       "      <th></th>\n",
       "      <th>Luas Tanah (m2)</th>\n",
       "      <th>Luas Bangunan (m2)</th>\n",
       "      <th>Jumlah Kamar</th>\n",
       "      <th>Jumlah Kamar Mandi</th>\n",
       "      <th>Tingkat/Lantai</th>\n",
       "    </tr>\n",
       "  </thead>\n",
       "  <tbody>\n",
       "    <tr>\n",
       "      <th>count</th>\n",
       "      <td>307.000000</td>\n",
       "      <td>307.000000</td>\n",
       "      <td>307.000000</td>\n",
       "      <td>306.000000</td>\n",
       "      <td>306.000000</td>\n",
       "    </tr>\n",
       "    <tr>\n",
       "      <th>mean</th>\n",
       "      <td>226.908795</td>\n",
       "      <td>266.579805</td>\n",
       "      <td>4.276873</td>\n",
       "      <td>3.339869</td>\n",
       "      <td>1.856209</td>\n",
       "    </tr>\n",
       "    <tr>\n",
       "      <th>std</th>\n",
       "      <td>202.149571</td>\n",
       "      <td>213.501196</td>\n",
       "      <td>1.646412</td>\n",
       "      <td>1.632311</td>\n",
       "      <td>0.512702</td>\n",
       "    </tr>\n",
       "    <tr>\n",
       "      <th>min</th>\n",
       "      <td>14.000000</td>\n",
       "      <td>14.000000</td>\n",
       "      <td>1.000000</td>\n",
       "      <td>1.000000</td>\n",
       "      <td>1.000000</td>\n",
       "    </tr>\n",
       "    <tr>\n",
       "      <th>25%</th>\n",
       "      <td>96.000000</td>\n",
       "      <td>120.000000</td>\n",
       "      <td>3.000000</td>\n",
       "      <td>2.000000</td>\n",
       "      <td>2.000000</td>\n",
       "    </tr>\n",
       "    <tr>\n",
       "      <th>50%</th>\n",
       "      <td>162.000000</td>\n",
       "      <td>200.000000</td>\n",
       "      <td>4.000000</td>\n",
       "      <td>3.000000</td>\n",
       "      <td>2.000000</td>\n",
       "    </tr>\n",
       "    <tr>\n",
       "      <th>75%</th>\n",
       "      <td>286.000000</td>\n",
       "      <td>332.500000</td>\n",
       "      <td>5.000000</td>\n",
       "      <td>4.000000</td>\n",
       "      <td>2.000000</td>\n",
       "    </tr>\n",
       "    <tr>\n",
       "      <th>max</th>\n",
       "      <td>1561.000000</td>\n",
       "      <td>1200.000000</td>\n",
       "      <td>13.000000</td>\n",
       "      <td>13.000000</td>\n",
       "      <td>4.000000</td>\n",
       "    </tr>\n",
       "  </tbody>\n",
       "</table>\n",
       "</div>"
      ],
      "text/plain": [
       "       Luas Tanah (m2)  Luas Bangunan (m2)  Jumlah Kamar  Jumlah Kamar Mandi  \\\n",
       "count       307.000000          307.000000    307.000000          306.000000   \n",
       "mean        226.908795          266.579805      4.276873            3.339869   \n",
       "std         202.149571          213.501196      1.646412            1.632311   \n",
       "min          14.000000           14.000000      1.000000            1.000000   \n",
       "25%          96.000000          120.000000      3.000000            2.000000   \n",
       "50%         162.000000          200.000000      4.000000            3.000000   \n",
       "75%         286.000000          332.500000      5.000000            4.000000   \n",
       "max        1561.000000         1200.000000     13.000000           13.000000   \n",
       "\n",
       "       Tingkat/Lantai   \n",
       "count       306.000000  \n",
       "mean          1.856209  \n",
       "std           0.512702  \n",
       "min           1.000000  \n",
       "25%           2.000000  \n",
       "50%           2.000000  \n",
       "75%           2.000000  \n",
       "max           4.000000  "
      ]
     },
     "execution_count": 4,
     "metadata": {},
     "output_type": "execute_result"
    }
   ],
   "source": [
    "df.describe()"
   ]
  },
  {
   "cell_type": "code",
   "execution_count": 5,
   "metadata": {
    "colab": {
     "base_uri": "https://localhost:8080/"
    },
    "id": "4qGn83IJAK1V",
    "outputId": "1dfa653f-f37d-4ae6-e738-99f65da4dd03"
   },
   "outputs": [
    {
     "name": "stdout",
     "output_type": "stream",
     "text": [
      "<class 'pandas.core.frame.DataFrame'>\n",
      "RangeIndex: 308 entries, 0 to 307\n",
      "Data columns (total 12 columns):\n",
      " #   Column                         Non-Null Count  Dtype  \n",
      "---  ------                         --------------  -----  \n",
      " 0   Area Category                  307 non-null    object \n",
      " 1   Nama Daerah                    307 non-null    object \n",
      " 2   Luas Tanah (m2)                307 non-null    float64\n",
      " 3   Luas Bangunan (m2)             307 non-null    float64\n",
      " 4   Jumlah Kamar                   307 non-null    float64\n",
      " 5   Jumlah Kamar Mandi             306 non-null    float64\n",
      " 6   Tingkat/Lantai                 306 non-null    float64\n",
      " 7   Harga Penawaran (dari Owner)   307 non-null    object \n",
      " 8   Terjual/Belum                  307 non-null    object \n",
      " 9   Arah Hadap Rumah               225 non-null    object \n",
      " 10  Posisi Rumah                   192 non-null    object \n",
      " 11  Lebar Jalan Depan Rumah (ROW)  266 non-null    object \n",
      "dtypes: float64(5), object(7)\n",
      "memory usage: 29.0+ KB\n"
     ]
    }
   ],
   "source": [
    "df.info()"
   ]
  },
  {
   "cell_type": "markdown",
   "metadata": {
    "id": "wLpmamec9jig"
   },
   "source": [
    "Data Preparation\n",
    "\n",
    "1. Check if there are any missing values in the data.\n",
    "2. Check the percentage of null values.\n",
    "3. Perform label encoding.\n",
    "4. Apply feature scaling to the data."
   ]
  },
  {
   "cell_type": "markdown",
   "metadata": {
    "id": "Q4p9ra1JRDdn"
   },
   "source": [
    "1."
   ]
  },
  {
   "cell_type": "code",
   "execution_count": 6,
   "metadata": {
    "colab": {
     "base_uri": "https://localhost:8080/",
     "height": 460
    },
    "id": "fAfk6XsgLeVl",
    "outputId": "5d0ef7eb-385a-41d7-e953-4f9a346d04c9"
   },
   "outputs": [
    {
     "name": "stdout",
     "output_type": "stream",
     "text": [
      "\n",
      "Missing Values Count:\n",
      " Area Category                      1\n",
      "Nama Daerah                        1\n",
      "Luas Tanah (m2)                    1\n",
      "Luas Bangunan (m2)                 1\n",
      "Jumlah Kamar                       1\n",
      "Jumlah Kamar Mandi                 2\n",
      "Tingkat/Lantai                     2\n",
      "Harga Penawaran (dari Owner)       1\n",
      "Terjual/Belum                      1\n",
      "Arah Hadap Rumah                  83\n",
      "Posisi Rumah                     116\n",
      "Lebar Jalan Depan Rumah (ROW)     42\n",
      "dtype: int64\n"
     ]
    }
   ],
   "source": [
    "missing_values = df.isnull().sum()\n",
    "print(\"\\nMissing Values Count:\\n\", missing_values)\n",
    "\n"
   ]
  },
  {
   "cell_type": "markdown",
   "metadata": {
    "id": "TML3jiamRF_U"
   },
   "source": [
    "2."
   ]
  },
  {
   "cell_type": "code",
   "execution_count": 7,
   "metadata": {
    "colab": {
     "base_uri": "https://localhost:8080/",
     "height": 460
    },
    "id": "pRvFgzknOwNZ",
    "outputId": "bcf3e2ee-f425-4f97-9703-ce4d76f68667"
   },
   "outputs": [
    {
     "name": "stdout",
     "output_type": "stream",
     "text": [
      "\n",
      "Percentage of Null Values:\n",
      " Area Category                     0.324675\n",
      "Nama Daerah                       0.324675\n",
      "Luas Tanah (m2)                   0.324675\n",
      "Luas Bangunan (m2)                0.324675\n",
      "Jumlah Kamar                      0.324675\n",
      "Jumlah Kamar Mandi                0.649351\n",
      "Tingkat/Lantai                    0.649351\n",
      "Harga Penawaran (dari Owner)      0.324675\n",
      "Terjual/Belum                     0.324675\n",
      "Arah Hadap Rumah                 26.948052\n",
      "Posisi Rumah                     37.662338\n",
      "Lebar Jalan Depan Rumah (ROW)    13.636364\n",
      "dtype: float64\n"
     ]
    }
   ],
   "source": [
    "null_percentage = (missing_values / len(df)) * 100\n",
    "print(\"\\nPercentage of Null Values:\\n\", null_percentage)\n",
    "\n",
    "imputer = SimpleImputer(strategy='most_frequent')\n",
    "df_imputed = pd.DataFrame(imputer.fit_transform(df), columns=df.columns)\n",
    "\n"
   ]
  },
  {
   "cell_type": "markdown",
   "metadata": {
    "id": "-KzjgP9fAzBk"
   },
   "source": [
    "Since there are too many nulls but not up to 50%, it’s better to fill them in using SimpleImputer with the strategy set to 'most_frequent'"
   ]
  },
  {
   "cell_type": "code",
   "execution_count": 8,
   "metadata": {
    "colab": {
     "base_uri": "https://localhost:8080/",
     "height": 292
    },
    "id": "pG9CYi3C7Iq9",
    "outputId": "7d071b8a-0c8f-4c4c-ac54-214f447c8a6c"
   },
   "outputs": [
    {
     "data": {
      "text/html": [
       "<div>\n",
       "<style scoped>\n",
       "    .dataframe tbody tr th:only-of-type {\n",
       "        vertical-align: middle;\n",
       "    }\n",
       "\n",
       "    .dataframe tbody tr th {\n",
       "        vertical-align: top;\n",
       "    }\n",
       "\n",
       "    .dataframe thead th {\n",
       "        text-align: right;\n",
       "    }\n",
       "</style>\n",
       "<table border=\"1\" class=\"dataframe\">\n",
       "  <thead>\n",
       "    <tr style=\"text-align: right;\">\n",
       "      <th></th>\n",
       "      <th>Area Category</th>\n",
       "      <th>Nama Daerah</th>\n",
       "      <th>Luas Tanah (m2)</th>\n",
       "      <th>Luas Bangunan (m2)</th>\n",
       "      <th>Jumlah Kamar</th>\n",
       "      <th>Jumlah Kamar Mandi</th>\n",
       "      <th>Tingkat/Lantai</th>\n",
       "      <th>Harga Penawaran (dari Owner)</th>\n",
       "      <th>Terjual/Belum</th>\n",
       "      <th>Arah Hadap Rumah</th>\n",
       "      <th>Posisi Rumah</th>\n",
       "      <th>Lebar Jalan Depan Rumah (ROW)</th>\n",
       "    </tr>\n",
       "  </thead>\n",
       "  <tbody>\n",
       "    <tr>\n",
       "      <th>0</th>\n",
       "      <td>Standard</td>\n",
       "      <td>Citraland</td>\n",
       "      <td>240.0</td>\n",
       "      <td>300.0</td>\n",
       "      <td>4.0</td>\n",
       "      <td>3.0</td>\n",
       "      <td>2.0</td>\n",
       "      <td>3500000000</td>\n",
       "      <td>Belum</td>\n",
       "      <td>Utara</td>\n",
       "      <td>Standard</td>\n",
       "      <td>1-2 Mobil</td>\n",
       "    </tr>\n",
       "    <tr>\n",
       "      <th>1</th>\n",
       "      <td>Below Standard</td>\n",
       "      <td>Setro Baru Utara</td>\n",
       "      <td>30.0</td>\n",
       "      <td>60.0</td>\n",
       "      <td>2.0</td>\n",
       "      <td>1.0</td>\n",
       "      <td>2.0</td>\n",
       "      <td>287799000</td>\n",
       "      <td>Belum</td>\n",
       "      <td>Utara</td>\n",
       "      <td>Standard</td>\n",
       "      <td>&lt; 1 Mobil</td>\n",
       "    </tr>\n",
       "    <tr>\n",
       "      <th>2</th>\n",
       "      <td>Standard</td>\n",
       "      <td>Kenjeran</td>\n",
       "      <td>170.0</td>\n",
       "      <td>170.0</td>\n",
       "      <td>5.0</td>\n",
       "      <td>4.0</td>\n",
       "      <td>2.0</td>\n",
       "      <td>2699999999</td>\n",
       "      <td>Belum</td>\n",
       "      <td>Selatan</td>\n",
       "      <td>Cul De Sac/Ujung Gang Buntu</td>\n",
       "      <td>1-2 Mobil</td>\n",
       "    </tr>\n",
       "    <tr>\n",
       "      <th>3</th>\n",
       "      <td>Sangat Premium</td>\n",
       "      <td>Kenjeran</td>\n",
       "      <td>187.0</td>\n",
       "      <td>250.0</td>\n",
       "      <td>5.0</td>\n",
       "      <td>5.0</td>\n",
       "      <td>2.0</td>\n",
       "      <td>3100000000</td>\n",
       "      <td>Belum</td>\n",
       "      <td>Utara</td>\n",
       "      <td>Standard</td>\n",
       "      <td>1-2 Mobil</td>\n",
       "    </tr>\n",
       "    <tr>\n",
       "      <th>4</th>\n",
       "      <td>Premium</td>\n",
       "      <td>Kenjeran</td>\n",
       "      <td>350.0</td>\n",
       "      <td>600.0</td>\n",
       "      <td>5.0</td>\n",
       "      <td>5.0</td>\n",
       "      <td>2.0</td>\n",
       "      <td>5000000000</td>\n",
       "      <td>Belum</td>\n",
       "      <td>Barat</td>\n",
       "      <td>Standard</td>\n",
       "      <td>1-2 Mobil</td>\n",
       "    </tr>\n",
       "  </tbody>\n",
       "</table>\n",
       "</div>"
      ],
      "text/plain": [
       "    Area Category       Nama Daerah  Luas Tanah (m2)  Luas Bangunan (m2)  \\\n",
       "0        Standard         Citraland            240.0               300.0   \n",
       "1  Below Standard  Setro Baru Utara             30.0                60.0   \n",
       "2        Standard          Kenjeran            170.0               170.0   \n",
       "3  Sangat Premium          Kenjeran            187.0               250.0   \n",
       "4         Premium          Kenjeran            350.0               600.0   \n",
       "\n",
       "   Jumlah Kamar  Jumlah Kamar Mandi  Tingkat/Lantai   \\\n",
       "0           4.0                 3.0              2.0   \n",
       "1           2.0                 1.0              2.0   \n",
       "2           5.0                 4.0              2.0   \n",
       "3           5.0                 5.0              2.0   \n",
       "4           5.0                 5.0              2.0   \n",
       "\n",
       "  Harga Penawaran (dari Owner) Terjual/Belum Arah Hadap Rumah  \\\n",
       "0                   3500000000         Belum            Utara   \n",
       "1                    287799000         Belum            Utara   \n",
       "2                   2699999999         Belum          Selatan   \n",
       "3                   3100000000         Belum            Utara   \n",
       "4                   5000000000         Belum            Barat   \n",
       "\n",
       "                  Posisi Rumah Lebar Jalan Depan Rumah (ROW)  \n",
       "0                     Standard                     1-2 Mobil  \n",
       "1                     Standard                     < 1 Mobil  \n",
       "2  Cul De Sac/Ujung Gang Buntu                     1-2 Mobil  \n",
       "3                     Standard                     1-2 Mobil  \n",
       "4                     Standard                     1-2 Mobil  "
      ]
     },
     "execution_count": 8,
     "metadata": {},
     "output_type": "execute_result"
    }
   ],
   "source": [
    "\n",
    "for column in df.columns:\n",
    "    if df[column].dtype == 'object':\n",
    "        df_imputed[column] = df_imputed[column].astype(str)\n",
    "    else:\n",
    "        df_imputed[column] = df_imputed[column].astype(float)\n",
    "        \n",
    "df_imputed.head()\n"
   ]
  },
  {
   "cell_type": "code",
   "execution_count": 9,
   "metadata": {
    "colab": {
     "base_uri": "https://localhost:8080/",
     "height": 460
    },
    "id": "P39tcuz77l4m",
    "outputId": "c16e0e34-6bdf-405c-e4f4-eb5f8d6d70ad"
   },
   "outputs": [
    {
     "data": {
      "text/plain": [
       "Area Category                    0\n",
       "Nama Daerah                      0\n",
       "Luas Tanah (m2)                  0\n",
       "Luas Bangunan (m2)               0\n",
       "Jumlah Kamar                     0\n",
       "Jumlah Kamar Mandi               0\n",
       "Tingkat/Lantai                   0\n",
       "Harga Penawaran (dari Owner)     0\n",
       "Terjual/Belum                    0\n",
       "Arah Hadap Rumah                 0\n",
       "Posisi Rumah                     0\n",
       "Lebar Jalan Depan Rumah (ROW)    0\n",
       "dtype: int64"
      ]
     },
     "execution_count": 9,
     "metadata": {},
     "output_type": "execute_result"
    }
   ],
   "source": [
    "df_imputed.isnull().sum()"
   ]
  },
  {
   "cell_type": "markdown",
   "metadata": {
    "id": "bX3c5v9bCx67"
   },
   "source": [
    "Drop the column 'Nama Daerah' because all the values are different."
   ]
  },
  {
   "cell_type": "code",
   "execution_count": 10,
   "metadata": {
    "colab": {
     "base_uri": "https://localhost:8080/",
     "height": 275
    },
    "id": "XBrU-DGYCkND",
    "outputId": "c45fc228-4a77-4a1a-a3e0-478b8c6faa2b"
   },
   "outputs": [
    {
     "data": {
      "text/html": [
       "<div>\n",
       "<style scoped>\n",
       "    .dataframe tbody tr th:only-of-type {\n",
       "        vertical-align: middle;\n",
       "    }\n",
       "\n",
       "    .dataframe tbody tr th {\n",
       "        vertical-align: top;\n",
       "    }\n",
       "\n",
       "    .dataframe thead th {\n",
       "        text-align: right;\n",
       "    }\n",
       "</style>\n",
       "<table border=\"1\" class=\"dataframe\">\n",
       "  <thead>\n",
       "    <tr style=\"text-align: right;\">\n",
       "      <th></th>\n",
       "      <th>Area Category</th>\n",
       "      <th>Luas Tanah (m2)</th>\n",
       "      <th>Luas Bangunan (m2)</th>\n",
       "      <th>Jumlah Kamar</th>\n",
       "      <th>Jumlah Kamar Mandi</th>\n",
       "      <th>Tingkat/Lantai</th>\n",
       "      <th>Harga Penawaran (dari Owner)</th>\n",
       "      <th>Terjual/Belum</th>\n",
       "      <th>Arah Hadap Rumah</th>\n",
       "      <th>Posisi Rumah</th>\n",
       "      <th>Lebar Jalan Depan Rumah (ROW)</th>\n",
       "    </tr>\n",
       "  </thead>\n",
       "  <tbody>\n",
       "    <tr>\n",
       "      <th>0</th>\n",
       "      <td>Standard</td>\n",
       "      <td>240.0</td>\n",
       "      <td>300.0</td>\n",
       "      <td>4.0</td>\n",
       "      <td>3.0</td>\n",
       "      <td>2.0</td>\n",
       "      <td>3500000000</td>\n",
       "      <td>Belum</td>\n",
       "      <td>Utara</td>\n",
       "      <td>Standard</td>\n",
       "      <td>1-2 Mobil</td>\n",
       "    </tr>\n",
       "    <tr>\n",
       "      <th>1</th>\n",
       "      <td>Below Standard</td>\n",
       "      <td>30.0</td>\n",
       "      <td>60.0</td>\n",
       "      <td>2.0</td>\n",
       "      <td>1.0</td>\n",
       "      <td>2.0</td>\n",
       "      <td>287799000</td>\n",
       "      <td>Belum</td>\n",
       "      <td>Utara</td>\n",
       "      <td>Standard</td>\n",
       "      <td>&lt; 1 Mobil</td>\n",
       "    </tr>\n",
       "    <tr>\n",
       "      <th>2</th>\n",
       "      <td>Standard</td>\n",
       "      <td>170.0</td>\n",
       "      <td>170.0</td>\n",
       "      <td>5.0</td>\n",
       "      <td>4.0</td>\n",
       "      <td>2.0</td>\n",
       "      <td>2699999999</td>\n",
       "      <td>Belum</td>\n",
       "      <td>Selatan</td>\n",
       "      <td>Cul De Sac/Ujung Gang Buntu</td>\n",
       "      <td>1-2 Mobil</td>\n",
       "    </tr>\n",
       "    <tr>\n",
       "      <th>3</th>\n",
       "      <td>Sangat Premium</td>\n",
       "      <td>187.0</td>\n",
       "      <td>250.0</td>\n",
       "      <td>5.0</td>\n",
       "      <td>5.0</td>\n",
       "      <td>2.0</td>\n",
       "      <td>3100000000</td>\n",
       "      <td>Belum</td>\n",
       "      <td>Utara</td>\n",
       "      <td>Standard</td>\n",
       "      <td>1-2 Mobil</td>\n",
       "    </tr>\n",
       "    <tr>\n",
       "      <th>4</th>\n",
       "      <td>Premium</td>\n",
       "      <td>350.0</td>\n",
       "      <td>600.0</td>\n",
       "      <td>5.0</td>\n",
       "      <td>5.0</td>\n",
       "      <td>2.0</td>\n",
       "      <td>5000000000</td>\n",
       "      <td>Belum</td>\n",
       "      <td>Barat</td>\n",
       "      <td>Standard</td>\n",
       "      <td>1-2 Mobil</td>\n",
       "    </tr>\n",
       "  </tbody>\n",
       "</table>\n",
       "</div>"
      ],
      "text/plain": [
       "    Area Category  Luas Tanah (m2)  Luas Bangunan (m2)  Jumlah Kamar  \\\n",
       "0        Standard            240.0               300.0           4.0   \n",
       "1  Below Standard             30.0                60.0           2.0   \n",
       "2        Standard            170.0               170.0           5.0   \n",
       "3  Sangat Premium            187.0               250.0           5.0   \n",
       "4         Premium            350.0               600.0           5.0   \n",
       "\n",
       "   Jumlah Kamar Mandi  Tingkat/Lantai  Harga Penawaran (dari Owner)  \\\n",
       "0                 3.0              2.0                   3500000000   \n",
       "1                 1.0              2.0                    287799000   \n",
       "2                 4.0              2.0                   2699999999   \n",
       "3                 5.0              2.0                   3100000000   \n",
       "4                 5.0              2.0                   5000000000   \n",
       "\n",
       "  Terjual/Belum Arah Hadap Rumah                 Posisi Rumah  \\\n",
       "0         Belum            Utara                     Standard   \n",
       "1         Belum            Utara                     Standard   \n",
       "2         Belum          Selatan  Cul De Sac/Ujung Gang Buntu   \n",
       "3         Belum            Utara                     Standard   \n",
       "4         Belum            Barat                     Standard   \n",
       "\n",
       "  Lebar Jalan Depan Rumah (ROW)  \n",
       "0                     1-2 Mobil  \n",
       "1                     < 1 Mobil  \n",
       "2                     1-2 Mobil  \n",
       "3                     1-2 Mobil  \n",
       "4                     1-2 Mobil  "
      ]
     },
     "execution_count": 10,
     "metadata": {},
     "output_type": "execute_result"
    }
   ],
   "source": [
    "df_imputed.drop(columns=['Nama Daerah'], inplace=True)\n",
    "df_imputed.head()\n",
    "\n"
   ]
  },
  {
   "cell_type": "markdown",
   "metadata": {
    "id": "2oKqWt9qRLrF"
   },
   "source": [
    "3."
   ]
  },
  {
   "cell_type": "code",
   "execution_count": 11,
   "metadata": {
    "colab": {
     "base_uri": "https://localhost:8080/",
     "height": 223
    },
    "id": "Nmk3tKEP7qXn",
    "outputId": "e0aad92d-b22b-4001-8437-36610b99d919"
   },
   "outputs": [
    {
     "data": {
      "text/html": [
       "<div>\n",
       "<style scoped>\n",
       "    .dataframe tbody tr th:only-of-type {\n",
       "        vertical-align: middle;\n",
       "    }\n",
       "\n",
       "    .dataframe tbody tr th {\n",
       "        vertical-align: top;\n",
       "    }\n",
       "\n",
       "    .dataframe thead th {\n",
       "        text-align: right;\n",
       "    }\n",
       "</style>\n",
       "<table border=\"1\" class=\"dataframe\">\n",
       "  <thead>\n",
       "    <tr style=\"text-align: right;\">\n",
       "      <th></th>\n",
       "      <th>Area Category</th>\n",
       "      <th>Luas Tanah (m2)</th>\n",
       "      <th>Luas Bangunan (m2)</th>\n",
       "      <th>Jumlah Kamar</th>\n",
       "      <th>Jumlah Kamar Mandi</th>\n",
       "      <th>Tingkat/Lantai</th>\n",
       "      <th>Harga Penawaran (dari Owner)</th>\n",
       "      <th>Terjual/Belum</th>\n",
       "      <th>Arah Hadap Rumah</th>\n",
       "      <th>Posisi Rumah</th>\n",
       "      <th>Lebar Jalan Depan Rumah (ROW)</th>\n",
       "    </tr>\n",
       "  </thead>\n",
       "  <tbody>\n",
       "    <tr>\n",
       "      <th>0</th>\n",
       "      <td>3</td>\n",
       "      <td>240.0</td>\n",
       "      <td>300.0</td>\n",
       "      <td>4.0</td>\n",
       "      <td>3.0</td>\n",
       "      <td>2.0</td>\n",
       "      <td>3500000000</td>\n",
       "      <td>0</td>\n",
       "      <td>3</td>\n",
       "      <td>2</td>\n",
       "      <td>0</td>\n",
       "    </tr>\n",
       "    <tr>\n",
       "      <th>1</th>\n",
       "      <td>0</td>\n",
       "      <td>30.0</td>\n",
       "      <td>60.0</td>\n",
       "      <td>2.0</td>\n",
       "      <td>1.0</td>\n",
       "      <td>2.0</td>\n",
       "      <td>287799000</td>\n",
       "      <td>0</td>\n",
       "      <td>3</td>\n",
       "      <td>2</td>\n",
       "      <td>1</td>\n",
       "    </tr>\n",
       "    <tr>\n",
       "      <th>2</th>\n",
       "      <td>3</td>\n",
       "      <td>170.0</td>\n",
       "      <td>170.0</td>\n",
       "      <td>5.0</td>\n",
       "      <td>4.0</td>\n",
       "      <td>2.0</td>\n",
       "      <td>2699999999</td>\n",
       "      <td>0</td>\n",
       "      <td>1</td>\n",
       "      <td>0</td>\n",
       "      <td>0</td>\n",
       "    </tr>\n",
       "    <tr>\n",
       "      <th>3</th>\n",
       "      <td>2</td>\n",
       "      <td>187.0</td>\n",
       "      <td>250.0</td>\n",
       "      <td>5.0</td>\n",
       "      <td>5.0</td>\n",
       "      <td>2.0</td>\n",
       "      <td>3100000000</td>\n",
       "      <td>0</td>\n",
       "      <td>3</td>\n",
       "      <td>2</td>\n",
       "      <td>0</td>\n",
       "    </tr>\n",
       "    <tr>\n",
       "      <th>4</th>\n",
       "      <td>1</td>\n",
       "      <td>350.0</td>\n",
       "      <td>600.0</td>\n",
       "      <td>5.0</td>\n",
       "      <td>5.0</td>\n",
       "      <td>2.0</td>\n",
       "      <td>5000000000</td>\n",
       "      <td>0</td>\n",
       "      <td>0</td>\n",
       "      <td>2</td>\n",
       "      <td>0</td>\n",
       "    </tr>\n",
       "  </tbody>\n",
       "</table>\n",
       "</div>"
      ],
      "text/plain": [
       "   Area Category  Luas Tanah (m2)  Luas Bangunan (m2)  Jumlah Kamar  \\\n",
       "0              3            240.0               300.0           4.0   \n",
       "1              0             30.0                60.0           2.0   \n",
       "2              3            170.0               170.0           5.0   \n",
       "3              2            187.0               250.0           5.0   \n",
       "4              1            350.0               600.0           5.0   \n",
       "\n",
       "   Jumlah Kamar Mandi  Tingkat/Lantai  Harga Penawaran (dari Owner)  \\\n",
       "0                 3.0              2.0                   3500000000   \n",
       "1                 1.0              2.0                    287799000   \n",
       "2                 4.0              2.0                   2699999999   \n",
       "3                 5.0              2.0                   3100000000   \n",
       "4                 5.0              2.0                   5000000000   \n",
       "\n",
       "   Terjual/Belum  Arah Hadap Rumah  Posisi Rumah  \\\n",
       "0              0                 3             2   \n",
       "1              0                 3             2   \n",
       "2              0                 1             0   \n",
       "3              0                 3             2   \n",
       "4              0                 0             2   \n",
       "\n",
       "   Lebar Jalan Depan Rumah (ROW)  \n",
       "0                              0  \n",
       "1                              1  \n",
       "2                              0  \n",
       "3                              0  \n",
       "4                              0  "
      ]
     },
     "execution_count": 11,
     "metadata": {},
     "output_type": "execute_result"
    }
   ],
   "source": [
    "\n",
    "label_encoder = LabelEncoder()\n",
    "\n",
    "df_imputed['Area Category'] = label_encoder.fit_transform(df_imputed['Area Category'])\n",
    "df_imputed['Arah Hadap Rumah'] = label_encoder.fit_transform(df_imputed['Arah Hadap Rumah'])\n",
    "df_imputed['Posisi Rumah'] = label_encoder.fit_transform(df_imputed['Posisi Rumah'])\n",
    "df_imputed['Terjual/Belum'] = label_encoder.fit_transform(df_imputed['Terjual/Belum'])\n",
    "df_imputed['Lebar Jalan Depan Rumah (ROW)'] = label_encoder.fit_transform(df_imputed['Lebar Jalan Depan Rumah (ROW)'])\n",
    "\n",
    "df_imputed.head()\n"
   ]
  },
  {
   "cell_type": "markdown",
   "metadata": {
    "id": "NnwN15T_rk-x"
   },
   "source": [
    "To replace incorrect or invalid data in the column \"Harga Penawaran (dari Owner)\", do the following:\n",
    "\n",
    "Replace empty values (\" \") with \"10500000000\".\n",
    "\n",
    "Replace values with commas like \"10.500.000.000,00\" with \"10500000000\"."
   ]
  },
  {
   "cell_type": "code",
   "execution_count": 12,
   "metadata": {
    "id": "Zie7cOwvbkIm"
   },
   "outputs": [],
   "source": [
    "df_imputed['Harga Penawaran (dari Owner)'] = df_imputed['Harga Penawaran (dari Owner)'].replace(\" \", \"10500000000\")\n",
    "df_imputed['Harga Penawaran (dari Owner)'] = df_imputed['Harga Penawaran (dari Owner)'].str.replace(r'\\D', '', regex=True)\n",
    "df_imputed['Harga Penawaran (dari Owner)'] = df_imputed['Harga Penawaran (dari Owner)'].astype('int64')"
   ]
  },
  {
   "cell_type": "markdown",
   "metadata": {
    "id": "ZYcSwNYQrfF3"
   },
   "source": [
    "check the data type"
   ]
  },
  {
   "cell_type": "code",
   "execution_count": 13,
   "metadata": {
    "colab": {
     "base_uri": "https://localhost:8080/"
    },
    "id": "tenlxUxBLdWR",
    "outputId": "1e26969e-b151-454c-b8b3-e9639d8a8cd4"
   },
   "outputs": [
    {
     "name": "stdout",
     "output_type": "stream",
     "text": [
      "<class 'pandas.core.frame.DataFrame'>\n",
      "RangeIndex: 308 entries, 0 to 307\n",
      "Data columns (total 11 columns):\n",
      " #   Column                         Non-Null Count  Dtype  \n",
      "---  ------                         --------------  -----  \n",
      " 0   Area Category                  308 non-null    int32  \n",
      " 1   Luas Tanah (m2)                308 non-null    float64\n",
      " 2   Luas Bangunan (m2)             308 non-null    float64\n",
      " 3   Jumlah Kamar                   308 non-null    float64\n",
      " 4   Jumlah Kamar Mandi             308 non-null    float64\n",
      " 5   Tingkat/Lantai                 308 non-null    float64\n",
      " 6   Harga Penawaran (dari Owner)   308 non-null    int64  \n",
      " 7   Terjual/Belum                  308 non-null    int32  \n",
      " 8   Arah Hadap Rumah               308 non-null    int32  \n",
      " 9   Posisi Rumah                   308 non-null    int32  \n",
      " 10  Lebar Jalan Depan Rumah (ROW)  308 non-null    int32  \n",
      "dtypes: float64(5), int32(5), int64(1)\n",
      "memory usage: 20.6 KB\n"
     ]
    }
   ],
   "source": [
    "df_imputed.info()"
   ]
  },
  {
   "cell_type": "markdown",
   "metadata": {
    "id": "t6lZHF2PLXGo"
   },
   "source": [
    "Change the data types from:\n",
    "\n",
    "- float to int\n",
    "- object to int"
   ]
  },
  {
   "cell_type": "code",
   "execution_count": 14,
   "metadata": {
    "id": "tePlKVUaLE8k"
   },
   "outputs": [
    {
     "name": "stdout",
     "output_type": "stream",
     "text": [
      "Index(['Area Category', 'Luas Tanah (m2)', 'Luas Bangunan (m2)',\n",
      "       'Jumlah Kamar', 'Jumlah Kamar Mandi', 'Tingkat/Lantai ',\n",
      "       'Harga Penawaran (dari Owner)', 'Terjual/Belum', 'Arah Hadap Rumah',\n",
      "       'Posisi Rumah', 'Lebar Jalan Depan Rumah (ROW)'],\n",
      "      dtype='object')\n",
      "<class 'pandas.core.frame.DataFrame'>\n",
      "RangeIndex: 308 entries, 0 to 307\n",
      "Data columns (total 11 columns):\n",
      " #   Column                         Non-Null Count  Dtype\n",
      "---  ------                         --------------  -----\n",
      " 0   Area Category                  308 non-null    int64\n",
      " 1   Luas Tanah (m2)                308 non-null    int64\n",
      " 2   Luas Bangunan (m2)             308 non-null    int64\n",
      " 3   Jumlah Kamar                   308 non-null    int64\n",
      " 4   Jumlah Kamar Mandi             308 non-null    int64\n",
      " 5   Tingkat/Lantai                 308 non-null    int64\n",
      " 6   Harga Penawaran (dari Owner)   308 non-null    int64\n",
      " 7   Terjual/Belum                  308 non-null    int64\n",
      " 8   Arah Hadap Rumah               308 non-null    int64\n",
      " 9   Posisi Rumah                   308 non-null    int64\n",
      " 10  Lebar Jalan Depan Rumah (ROW)  308 non-null    int64\n",
      "dtypes: int64(11)\n",
      "memory usage: 26.6 KB\n"
     ]
    }
   ],
   "source": [
    "print(df_imputed.columns)\n",
    "\n",
    "df_imputed = df_imputed.astype({\n",
    "    'Area Category': 'int64',\n",
    "    'Luas Tanah (m2)': 'int64',\n",
    "    'Luas Bangunan (m2)': 'int64',\n",
    "    'Jumlah Kamar': 'int64',\n",
    "    'Jumlah Kamar Mandi': 'int64',\n",
    "    'Tingkat/Lantai ': 'int64',  \n",
    "    'Harga Penawaran (dari Owner)': 'int64',\n",
    "    'Terjual/Belum': 'int64',\n",
    "    'Arah Hadap Rumah': 'int64',\n",
    "    'Posisi Rumah': 'int64',\n",
    "    'Lebar Jalan Depan Rumah (ROW)': 'int64'\n",
    "})\n",
    "\n",
    "df_imputed.info()"
   ]
  },
  {
   "cell_type": "code",
   "execution_count": null,
   "metadata": {
    "colab": {
     "base_uri": "https://localhost:8080/"
    },
    "id": "PdRtvMT3bEnJ",
    "outputId": "950f33e8-ae31-4491-9b9b-294daf3b33dc"
   },
   "outputs": [],
   "source": []
  },
  {
   "cell_type": "markdown",
   "metadata": {
    "id": "_qQtlqnzRARK"
   },
   "source": [
    "4."
   ]
  },
  {
   "cell_type": "code",
   "execution_count": 15,
   "metadata": {
    "colab": {
     "base_uri": "https://localhost:8080/",
     "height": 223
    },
    "id": "_EOGmQfi8XKS",
    "outputId": "3ccec2ee-d9ea-4837-b0a0-2feb409c8c88"
   },
   "outputs": [
    {
     "data": {
      "text/html": [
       "<div>\n",
       "<style scoped>\n",
       "    .dataframe tbody tr th:only-of-type {\n",
       "        vertical-align: middle;\n",
       "    }\n",
       "\n",
       "    .dataframe tbody tr th {\n",
       "        vertical-align: top;\n",
       "    }\n",
       "\n",
       "    .dataframe thead th {\n",
       "        text-align: right;\n",
       "    }\n",
       "</style>\n",
       "<table border=\"1\" class=\"dataframe\">\n",
       "  <thead>\n",
       "    <tr style=\"text-align: right;\">\n",
       "      <th></th>\n",
       "      <th>Area Category</th>\n",
       "      <th>Luas Tanah (m2)</th>\n",
       "      <th>Luas Bangunan (m2)</th>\n",
       "      <th>Jumlah Kamar</th>\n",
       "      <th>Jumlah Kamar Mandi</th>\n",
       "      <th>Tingkat/Lantai</th>\n",
       "      <th>Harga Penawaran (dari Owner)</th>\n",
       "      <th>Terjual/Belum</th>\n",
       "      <th>Arah Hadap Rumah</th>\n",
       "      <th>Posisi Rumah</th>\n",
       "      <th>Lebar Jalan Depan Rumah (ROW)</th>\n",
       "    </tr>\n",
       "  </thead>\n",
       "  <tbody>\n",
       "    <tr>\n",
       "      <th>0</th>\n",
       "      <td>1.004372</td>\n",
       "      <td>0.064760</td>\n",
       "      <td>0.156529</td>\n",
       "      <td>-0.168161</td>\n",
       "      <td>-0.207847</td>\n",
       "      <td>0.313723</td>\n",
       "      <td>-0.182491</td>\n",
       "      <td>0.0</td>\n",
       "      <td>0.839497</td>\n",
       "      <td>-0.188069</td>\n",
       "      <td>-0.825581</td>\n",
       "    </tr>\n",
       "    <tr>\n",
       "      <th>1</th>\n",
       "      <td>-1.677824</td>\n",
       "      <td>-0.977457</td>\n",
       "      <td>-0.971209</td>\n",
       "      <td>-1.386831</td>\n",
       "      <td>-1.438941</td>\n",
       "      <td>0.313723</td>\n",
       "      <td>-0.569600</td>\n",
       "      <td>0.0</td>\n",
       "      <td>0.839497</td>\n",
       "      <td>-0.188069</td>\n",
       "      <td>0.220834</td>\n",
       "    </tr>\n",
       "    <tr>\n",
       "      <th>2</th>\n",
       "      <td>1.004372</td>\n",
       "      <td>-0.282646</td>\n",
       "      <td>-0.454330</td>\n",
       "      <td>0.441174</td>\n",
       "      <td>0.407700</td>\n",
       "      <td>0.313723</td>\n",
       "      <td>-0.278901</td>\n",
       "      <td>0.0</td>\n",
       "      <td>-1.141845</td>\n",
       "      <td>-5.453988</td>\n",
       "      <td>-0.825581</td>\n",
       "    </tr>\n",
       "    <tr>\n",
       "      <th>3</th>\n",
       "      <td>0.110307</td>\n",
       "      <td>-0.198276</td>\n",
       "      <td>-0.078417</td>\n",
       "      <td>0.441174</td>\n",
       "      <td>1.023247</td>\n",
       "      <td>0.313723</td>\n",
       "      <td>-0.230696</td>\n",
       "      <td>0.0</td>\n",
       "      <td>0.839497</td>\n",
       "      <td>-0.188069</td>\n",
       "      <td>-0.825581</td>\n",
       "    </tr>\n",
       "    <tr>\n",
       "      <th>4</th>\n",
       "      <td>-0.783759</td>\n",
       "      <td>0.610683</td>\n",
       "      <td>1.566201</td>\n",
       "      <td>0.441174</td>\n",
       "      <td>1.023247</td>\n",
       "      <td>0.313723</td>\n",
       "      <td>-0.001723</td>\n",
       "      <td>0.0</td>\n",
       "      <td>-2.132516</td>\n",
       "      <td>-0.188069</td>\n",
       "      <td>-0.825581</td>\n",
       "    </tr>\n",
       "  </tbody>\n",
       "</table>\n",
       "</div>"
      ],
      "text/plain": [
       "   Area Category  Luas Tanah (m2)  Luas Bangunan (m2)  Jumlah Kamar  \\\n",
       "0       1.004372         0.064760            0.156529     -0.168161   \n",
       "1      -1.677824        -0.977457           -0.971209     -1.386831   \n",
       "2       1.004372        -0.282646           -0.454330      0.441174   \n",
       "3       0.110307        -0.198276           -0.078417      0.441174   \n",
       "4      -0.783759         0.610683            1.566201      0.441174   \n",
       "\n",
       "   Jumlah Kamar Mandi  Tingkat/Lantai   Harga Penawaran (dari Owner)  \\\n",
       "0           -0.207847         0.313723                     -0.182491   \n",
       "1           -1.438941         0.313723                     -0.569600   \n",
       "2            0.407700         0.313723                     -0.278901   \n",
       "3            1.023247         0.313723                     -0.230696   \n",
       "4            1.023247         0.313723                     -0.001723   \n",
       "\n",
       "   Terjual/Belum  Arah Hadap Rumah  Posisi Rumah  \\\n",
       "0            0.0          0.839497     -0.188069   \n",
       "1            0.0          0.839497     -0.188069   \n",
       "2            0.0         -1.141845     -5.453988   \n",
       "3            0.0          0.839497     -0.188069   \n",
       "4            0.0         -2.132516     -0.188069   \n",
       "\n",
       "   Lebar Jalan Depan Rumah (ROW)  \n",
       "0                      -0.825581  \n",
       "1                       0.220834  \n",
       "2                      -0.825581  \n",
       "3                      -0.825581  \n",
       "4                      -0.825581  "
      ]
     },
     "execution_count": 15,
     "metadata": {},
     "output_type": "execute_result"
    }
   ],
   "source": [
    "# scaling data\n",
    "\n",
    "scaler = StandardScaler()\n",
    "data_scaled = scaler.fit_transform(df_imputed)\n",
    "data_scaled = pd.DataFrame(data_scaled, columns=df_imputed.columns)\n",
    "data_scaled.head()"
   ]
  },
  {
   "cell_type": "markdown",
   "metadata": {
    "id": "ZPx1qmFr3ouX"
   },
   "source": [
    "## K-Means Clustering"
   ]
  },
  {
   "cell_type": "markdown",
   "metadata": {
    "id": "BAHb1xo_A3m5"
   },
   "source": [
    "Using the elbow method, determine the number of clusters to be formed.\n",
    "\n",
    "Use the elbow range range(1, 11)"
   ]
  },
  {
   "cell_type": "code",
   "execution_count": 16,
   "metadata": {
    "colab": {
     "base_uri": "https://localhost:8080/",
     "height": 449
    },
    "id": "HFLEIVEI-J8n",
    "outputId": "af930208-dcf7-4cab-8f9a-0e4c08bc55d7"
   },
   "outputs": [
    {
     "name": "stderr",
     "output_type": "stream",
     "text": [
      "C:\\Anaconda\\Lib\\site-packages\\sklearn\\cluster\\_kmeans.py:1429: UserWarning: KMeans is known to have a memory leak on Windows with MKL, when there are less chunks than available threads. You can avoid it by setting the environment variable OMP_NUM_THREADS=2.\n",
      "  warnings.warn(\n",
      "C:\\Anaconda\\Lib\\site-packages\\sklearn\\cluster\\_kmeans.py:1429: UserWarning: KMeans is known to have a memory leak on Windows with MKL, when there are less chunks than available threads. You can avoid it by setting the environment variable OMP_NUM_THREADS=2.\n",
      "  warnings.warn(\n",
      "C:\\Anaconda\\Lib\\site-packages\\sklearn\\cluster\\_kmeans.py:1429: UserWarning: KMeans is known to have a memory leak on Windows with MKL, when there are less chunks than available threads. You can avoid it by setting the environment variable OMP_NUM_THREADS=2.\n",
      "  warnings.warn(\n",
      "C:\\Anaconda\\Lib\\site-packages\\sklearn\\cluster\\_kmeans.py:1429: UserWarning: KMeans is known to have a memory leak on Windows with MKL, when there are less chunks than available threads. You can avoid it by setting the environment variable OMP_NUM_THREADS=2.\n",
      "  warnings.warn(\n",
      "C:\\Anaconda\\Lib\\site-packages\\sklearn\\cluster\\_kmeans.py:1429: UserWarning: KMeans is known to have a memory leak on Windows with MKL, when there are less chunks than available threads. You can avoid it by setting the environment variable OMP_NUM_THREADS=2.\n",
      "  warnings.warn(\n",
      "C:\\Anaconda\\Lib\\site-packages\\sklearn\\cluster\\_kmeans.py:1429: UserWarning: KMeans is known to have a memory leak on Windows with MKL, when there are less chunks than available threads. You can avoid it by setting the environment variable OMP_NUM_THREADS=2.\n",
      "  warnings.warn(\n",
      "C:\\Anaconda\\Lib\\site-packages\\sklearn\\cluster\\_kmeans.py:1429: UserWarning: KMeans is known to have a memory leak on Windows with MKL, when there are less chunks than available threads. You can avoid it by setting the environment variable OMP_NUM_THREADS=2.\n",
      "  warnings.warn(\n",
      "C:\\Anaconda\\Lib\\site-packages\\sklearn\\cluster\\_kmeans.py:1429: UserWarning: KMeans is known to have a memory leak on Windows with MKL, when there are less chunks than available threads. You can avoid it by setting the environment variable OMP_NUM_THREADS=2.\n",
      "  warnings.warn(\n",
      "C:\\Anaconda\\Lib\\site-packages\\sklearn\\cluster\\_kmeans.py:1429: UserWarning: KMeans is known to have a memory leak on Windows with MKL, when there are less chunks than available threads. You can avoid it by setting the environment variable OMP_NUM_THREADS=2.\n",
      "  warnings.warn(\n",
      "C:\\Anaconda\\Lib\\site-packages\\sklearn\\cluster\\_kmeans.py:1429: UserWarning: KMeans is known to have a memory leak on Windows with MKL, when there are less chunks than available threads. You can avoid it by setting the environment variable OMP_NUM_THREADS=2.\n",
      "  warnings.warn(\n"
     ]
    },
    {
     "data": {
      "text/plain": [
       "Text(0, 0.5, 'SSE')"
      ]
     },
     "execution_count": 16,
     "metadata": {},
     "output_type": "execute_result"
    },
    {
     "data": {
      "image/png": "[encoded data removed]",
      "text/plain": [
       "<Figure size 1000x600 with 1 Axes>"
      ]
     },
     "metadata": {},
     "output_type": "display_data"
    }
   ],
   "source": [
    "sse = []\n",
    "for k in range(1,11):\n",
    "    kmeans = KMeans(n_clusters=k, random_state=42)\n",
    "    kmeans.fit(data_scaled)\n",
    "    sse.append(kmeans.inertia_)\n",
    "\n",
    "plt.figure(figsize=(10, 6))\n",
    "plt.plot(range(1, 11), sse)\n",
    "plt.title('Elbow Method for Optimal K')\n",
    "plt.xlabel('Number of Clusters (K)')\n",
    "plt.ylabel('SSE')\n",
    "     "
   ]
  },
  {
   "cell_type": "code",
   "execution_count": null,
   "metadata": {
    "colab": {
     "base_uri": "https://localhost:8080/"
    },
    "id": "r4777AaK-Mlw",
    "outputId": "50afd73f-44f3-40a3-84b8-3d450acc0b34"
   },
   "outputs": [],
   "source": []
  },
  {
   "cell_type": "code",
   "execution_count": null,
   "metadata": {},
   "outputs": [],
   "source": []
  },
  {
   "cell_type": "code",
   "execution_count": 17,
   "metadata": {},
   "outputs": [
    {
     "name": "stdout",
     "output_type": "stream",
     "text": [
      "The best k for your model is: 3\n"
     ]
    }
   ],
   "source": [
    "kneedle = KneeLocator(range(1, 11), sse, curve='convex', direction='decreasing')\n",
    "print(\"The best k for your model is:\", kneedle.elbow)"
   ]
  },
  {
   "cell_type": "markdown",
   "metadata": {
    "id": "riWXo9djBIkj"
   },
   "source": [
    "Train the K-Means model on the dataset with the number of clusters you have determined."
   ]
  },
  {
   "cell_type": "code",
   "execution_count": 18,
   "metadata": {
    "id": "mvT6Yql2BNMl",
    "scrolled": true
   },
   "outputs": [
    {
     "name": "stderr",
     "output_type": "stream",
     "text": [
      "C:\\Anaconda\\Lib\\site-packages\\sklearn\\cluster\\_kmeans.py:1429: UserWarning: KMeans is known to have a memory leak on Windows with MKL, when there are less chunks than available threads. You can avoid it by setting the environment variable OMP_NUM_THREADS=2.\n",
      "  warnings.warn(\n"
     ]
    },
    {
     "data": {
      "text/plain": [
       "array([2, 2, 2, 2, 1, 1, 2, 2, 0, 2, 0, 2, 2, 2, 2, 0, 2, 2, 2, 2, 2, 2,\n",
       "       0, 2, 2, 0, 2, 2, 1, 0, 0, 1, 2, 2, 1, 1, 1, 1, 1, 1, 1, 0, 2, 2,\n",
       "       2, 2, 2, 2, 2, 2, 2, 2, 2, 2, 0, 2, 2, 2, 2, 2, 0, 2, 2, 2, 2, 2,\n",
       "       0, 2, 2, 2, 2, 2, 2, 2, 2, 1, 1, 1, 2, 0, 0, 2, 2, 2, 0, 2, 1, 2,\n",
       "       2, 2, 2, 0, 2, 0, 2, 2, 2, 2, 0, 0, 2, 0, 2, 2, 2, 0, 2, 2, 0, 2,\n",
       "       0, 2, 2, 0, 0, 0, 0, 2, 2, 1, 2, 0, 2, 0, 0, 2, 2, 2, 2, 0, 0, 1,\n",
       "       2, 2, 0, 2, 2, 1, 2, 0, 1, 0, 0, 1, 1, 1, 1, 1, 1, 1, 1, 1, 1, 2,\n",
       "       0, 2, 0, 1, 2, 1, 1, 0, 0, 2, 2, 2, 0, 0, 2, 2, 2, 2, 1, 2, 2, 1,\n",
       "       1, 2, 0, 2, 2, 2, 2, 2, 0, 1, 1, 2, 2, 2, 1, 2, 2, 0, 2, 1, 2, 0,\n",
       "       2, 2, 2, 2, 2, 2, 0, 2, 2, 1, 2, 2, 2, 2, 0, 2, 2, 2, 1, 1, 0, 1,\n",
       "       0, 1, 2, 1, 0, 1, 1, 1, 1, 0, 2, 0, 0, 0, 2, 0, 0, 1, 1, 0, 1, 0,\n",
       "       1, 2, 0, 1, 2, 0, 1, 1, 2, 0, 2, 2, 0, 2, 0, 0, 0, 1, 2, 0, 0, 0,\n",
       "       0, 0, 2, 0, 1, 1, 1, 2, 2, 1, 2, 2, 2, 0, 0, 2, 2, 0, 0, 0, 2, 0,\n",
       "       0, 0, 1, 0, 0, 1, 0, 0, 0, 2, 0, 1, 0, 1, 2, 0, 2, 0, 2, 2, 0, 0])"
      ]
     },
     "execution_count": 18,
     "metadata": {},
     "output_type": "execute_result"
    }
   ],
   "source": [
    "kmeans = KMeans(n_clusters=3, random_state=42)\n",
    "y_pred = kmeans.fit_predict(data_scaled)\n",
    "y_pred"
   ]
  },
  {
   "cell_type": "code",
   "execution_count": 19,
   "metadata": {},
   "outputs": [],
   "source": [
    "data_scaled['Cluster'] = y_pred\n"
   ]
  },
  {
   "cell_type": "code",
   "execution_count": 20,
   "metadata": {
    "colab": {
     "base_uri": "https://localhost:8080/",
     "height": 223
    },
    "id": "Ri2O0PufdZV4",
    "outputId": "a8622478-3619-4a7f-cc90-f103c73bba9f"
   },
   "outputs": [
    {
     "data": {
      "text/html": [
       "<div>\n",
       "<style scoped>\n",
       "    .dataframe tbody tr th:only-of-type {\n",
       "        vertical-align: middle;\n",
       "    }\n",
       "\n",
       "    .dataframe tbody tr th {\n",
       "        vertical-align: top;\n",
       "    }\n",
       "\n",
       "    .dataframe thead th {\n",
       "        text-align: right;\n",
       "    }\n",
       "</style>\n",
       "<table border=\"1\" class=\"dataframe\">\n",
       "  <thead>\n",
       "    <tr style=\"text-align: right;\">\n",
       "      <th></th>\n",
       "      <th>Area Category</th>\n",
       "      <th>Luas Tanah (m2)</th>\n",
       "      <th>Luas Bangunan (m2)</th>\n",
       "      <th>Jumlah Kamar</th>\n",
       "      <th>Jumlah Kamar Mandi</th>\n",
       "      <th>Tingkat/Lantai</th>\n",
       "      <th>Harga Penawaran (dari Owner)</th>\n",
       "      <th>Terjual/Belum</th>\n",
       "      <th>Arah Hadap Rumah</th>\n",
       "      <th>Posisi Rumah</th>\n",
       "      <th>Lebar Jalan Depan Rumah (ROW)</th>\n",
       "    </tr>\n",
       "  </thead>\n",
       "  <tbody>\n",
       "    <tr>\n",
       "      <th>0</th>\n",
       "      <td>3.0</td>\n",
       "      <td>240.0</td>\n",
       "      <td>300.0</td>\n",
       "      <td>4.0</td>\n",
       "      <td>3.0</td>\n",
       "      <td>2.0</td>\n",
       "      <td>3.500000e+09</td>\n",
       "      <td>0.0</td>\n",
       "      <td>3.0</td>\n",
       "      <td>2.0</td>\n",
       "      <td>0.0</td>\n",
       "    </tr>\n",
       "    <tr>\n",
       "      <th>1</th>\n",
       "      <td>0.0</td>\n",
       "      <td>30.0</td>\n",
       "      <td>60.0</td>\n",
       "      <td>2.0</td>\n",
       "      <td>1.0</td>\n",
       "      <td>2.0</td>\n",
       "      <td>2.877990e+08</td>\n",
       "      <td>0.0</td>\n",
       "      <td>3.0</td>\n",
       "      <td>2.0</td>\n",
       "      <td>1.0</td>\n",
       "    </tr>\n",
       "    <tr>\n",
       "      <th>2</th>\n",
       "      <td>3.0</td>\n",
       "      <td>170.0</td>\n",
       "      <td>170.0</td>\n",
       "      <td>5.0</td>\n",
       "      <td>4.0</td>\n",
       "      <td>2.0</td>\n",
       "      <td>2.700000e+09</td>\n",
       "      <td>0.0</td>\n",
       "      <td>1.0</td>\n",
       "      <td>0.0</td>\n",
       "      <td>0.0</td>\n",
       "    </tr>\n",
       "    <tr>\n",
       "      <th>3</th>\n",
       "      <td>2.0</td>\n",
       "      <td>187.0</td>\n",
       "      <td>250.0</td>\n",
       "      <td>5.0</td>\n",
       "      <td>5.0</td>\n",
       "      <td>2.0</td>\n",
       "      <td>3.100000e+09</td>\n",
       "      <td>0.0</td>\n",
       "      <td>3.0</td>\n",
       "      <td>2.0</td>\n",
       "      <td>0.0</td>\n",
       "    </tr>\n",
       "    <tr>\n",
       "      <th>4</th>\n",
       "      <td>1.0</td>\n",
       "      <td>350.0</td>\n",
       "      <td>600.0</td>\n",
       "      <td>5.0</td>\n",
       "      <td>5.0</td>\n",
       "      <td>2.0</td>\n",
       "      <td>5.000000e+09</td>\n",
       "      <td>0.0</td>\n",
       "      <td>0.0</td>\n",
       "      <td>2.0</td>\n",
       "      <td>0.0</td>\n",
       "    </tr>\n",
       "  </tbody>\n",
       "</table>\n",
       "</div>"
      ],
      "text/plain": [
       "   Area Category  Luas Tanah (m2)  Luas Bangunan (m2)  Jumlah Kamar  \\\n",
       "0            3.0            240.0               300.0           4.0   \n",
       "1            0.0             30.0                60.0           2.0   \n",
       "2            3.0            170.0               170.0           5.0   \n",
       "3            2.0            187.0               250.0           5.0   \n",
       "4            1.0            350.0               600.0           5.0   \n",
       "\n",
       "   Jumlah Kamar Mandi  Tingkat/Lantai   Harga Penawaran (dari Owner)  \\\n",
       "0                 3.0              2.0                  3.500000e+09   \n",
       "1                 1.0              2.0                  2.877990e+08   \n",
       "2                 4.0              2.0                  2.700000e+09   \n",
       "3                 5.0              2.0                  3.100000e+09   \n",
       "4                 5.0              2.0                  5.000000e+09   \n",
       "\n",
       "   Terjual/Belum  Arah Hadap Rumah  Posisi Rumah  \\\n",
       "0            0.0               3.0           2.0   \n",
       "1            0.0               3.0           2.0   \n",
       "2            0.0               1.0           0.0   \n",
       "3            0.0               3.0           2.0   \n",
       "4            0.0               0.0           2.0   \n",
       "\n",
       "   Lebar Jalan Depan Rumah (ROW)  \n",
       "0                            0.0  \n",
       "1                            1.0  \n",
       "2                            0.0  \n",
       "3                            0.0  \n",
       "4                            0.0  "
      ]
     },
     "execution_count": 20,
     "metadata": {},
     "output_type": "execute_result"
    }
   ],
   "source": [
    "data_original = scaler.inverse_transform(data_scaled.drop(columns=['Cluster'], errors='ignore'))\n",
    "\n",
    "data_original_df = pd.DataFrame(data_original, columns=df_imputed.columns)  \n",
    "\n",
    "data_original_df.head()"
   ]
  },
  {
   "cell_type": "code",
   "execution_count": 21,
   "metadata": {},
   "outputs": [
    {
     "data": {
      "text/html": [
       "<div>\n",
       "<style scoped>\n",
       "    .dataframe tbody tr th:only-of-type {\n",
       "        vertical-align: middle;\n",
       "    }\n",
       "\n",
       "    .dataframe tbody tr th {\n",
       "        vertical-align: top;\n",
       "    }\n",
       "\n",
       "    .dataframe thead th {\n",
       "        text-align: right;\n",
       "    }\n",
       "</style>\n",
       "<table border=\"1\" class=\"dataframe\">\n",
       "  <thead>\n",
       "    <tr style=\"text-align: right;\">\n",
       "      <th></th>\n",
       "      <th>Area Category</th>\n",
       "      <th>Luas Tanah (m2)</th>\n",
       "      <th>Luas Bangunan (m2)</th>\n",
       "      <th>Jumlah Kamar</th>\n",
       "      <th>Jumlah Kamar Mandi</th>\n",
       "      <th>Tingkat/Lantai</th>\n",
       "      <th>Harga Penawaran (dari Owner)</th>\n",
       "      <th>Terjual/Belum</th>\n",
       "      <th>Arah Hadap Rumah</th>\n",
       "      <th>Posisi Rumah</th>\n",
       "      <th>Lebar Jalan Depan Rumah (ROW)</th>\n",
       "      <th>Cluster</th>\n",
       "    </tr>\n",
       "  </thead>\n",
       "  <tbody>\n",
       "    <tr>\n",
       "      <th>0</th>\n",
       "      <td>3.0</td>\n",
       "      <td>240.0</td>\n",
       "      <td>300.0</td>\n",
       "      <td>4.0</td>\n",
       "      <td>3.0</td>\n",
       "      <td>2.0</td>\n",
       "      <td>3.500000e+09</td>\n",
       "      <td>0.0</td>\n",
       "      <td>3.0</td>\n",
       "      <td>2.0</td>\n",
       "      <td>0.0</td>\n",
       "      <td>2</td>\n",
       "    </tr>\n",
       "    <tr>\n",
       "      <th>1</th>\n",
       "      <td>0.0</td>\n",
       "      <td>30.0</td>\n",
       "      <td>60.0</td>\n",
       "      <td>2.0</td>\n",
       "      <td>1.0</td>\n",
       "      <td>2.0</td>\n",
       "      <td>2.877990e+08</td>\n",
       "      <td>0.0</td>\n",
       "      <td>3.0</td>\n",
       "      <td>2.0</td>\n",
       "      <td>1.0</td>\n",
       "      <td>2</td>\n",
       "    </tr>\n",
       "    <tr>\n",
       "      <th>2</th>\n",
       "      <td>3.0</td>\n",
       "      <td>170.0</td>\n",
       "      <td>170.0</td>\n",
       "      <td>5.0</td>\n",
       "      <td>4.0</td>\n",
       "      <td>2.0</td>\n",
       "      <td>2.700000e+09</td>\n",
       "      <td>0.0</td>\n",
       "      <td>1.0</td>\n",
       "      <td>0.0</td>\n",
       "      <td>0.0</td>\n",
       "      <td>2</td>\n",
       "    </tr>\n",
       "    <tr>\n",
       "      <th>3</th>\n",
       "      <td>2.0</td>\n",
       "      <td>187.0</td>\n",
       "      <td>250.0</td>\n",
       "      <td>5.0</td>\n",
       "      <td>5.0</td>\n",
       "      <td>2.0</td>\n",
       "      <td>3.100000e+09</td>\n",
       "      <td>0.0</td>\n",
       "      <td>3.0</td>\n",
       "      <td>2.0</td>\n",
       "      <td>0.0</td>\n",
       "      <td>2</td>\n",
       "    </tr>\n",
       "    <tr>\n",
       "      <th>4</th>\n",
       "      <td>1.0</td>\n",
       "      <td>350.0</td>\n",
       "      <td>600.0</td>\n",
       "      <td>5.0</td>\n",
       "      <td>5.0</td>\n",
       "      <td>2.0</td>\n",
       "      <td>5.000000e+09</td>\n",
       "      <td>0.0</td>\n",
       "      <td>0.0</td>\n",
       "      <td>2.0</td>\n",
       "      <td>0.0</td>\n",
       "      <td>1</td>\n",
       "    </tr>\n",
       "  </tbody>\n",
       "</table>\n",
       "</div>"
      ],
      "text/plain": [
       "   Area Category  Luas Tanah (m2)  Luas Bangunan (m2)  Jumlah Kamar  \\\n",
       "0            3.0            240.0               300.0           4.0   \n",
       "1            0.0             30.0                60.0           2.0   \n",
       "2            3.0            170.0               170.0           5.0   \n",
       "3            2.0            187.0               250.0           5.0   \n",
       "4            1.0            350.0               600.0           5.0   \n",
       "\n",
       "   Jumlah Kamar Mandi  Tingkat/Lantai   Harga Penawaran (dari Owner)  \\\n",
       "0                 3.0              2.0                  3.500000e+09   \n",
       "1                 1.0              2.0                  2.877990e+08   \n",
       "2                 4.0              2.0                  2.700000e+09   \n",
       "3                 5.0              2.0                  3.100000e+09   \n",
       "4                 5.0              2.0                  5.000000e+09   \n",
       "\n",
       "   Terjual/Belum  Arah Hadap Rumah  Posisi Rumah  \\\n",
       "0            0.0               3.0           2.0   \n",
       "1            0.0               3.0           2.0   \n",
       "2            0.0               1.0           0.0   \n",
       "3            0.0               3.0           2.0   \n",
       "4            0.0               0.0           2.0   \n",
       "\n",
       "   Lebar Jalan Depan Rumah (ROW)  Cluster  \n",
       "0                            0.0        2  \n",
       "1                            1.0        2  \n",
       "2                            0.0        2  \n",
       "3                            0.0        2  \n",
       "4                            0.0        1  "
      ]
     },
     "execution_count": 21,
     "metadata": {},
     "output_type": "execute_result"
    }
   ],
   "source": [
    "data_original_df['Cluster'] = data_scaled['Cluster'].values\n",
    "\n",
    "data_original_df.head()\n"
   ]
  },
  {
   "cell_type": "markdown",
   "metadata": {
    "id": "DySLxlWqBNyH"
   },
   "source": [
    "Display the cluster summary in the form of a dataframe:\n",
    "\n",
    "1. For categorical columns: mode (use pd.Series.mode to find the mode; you do not need to use \" \" for this attribute).\n",
    "2. For continuous columns: mean.\n",
    "3. Cluster results: count."
   ]
  },
  {
   "cell_type": "code",
   "execution_count": 22,
   "metadata": {},
   "outputs": [
    {
     "data": {
      "text/html": [
       "<div>\n",
       "<style scoped>\n",
       "    .dataframe tbody tr th:only-of-type {\n",
       "        vertical-align: middle;\n",
       "    }\n",
       "\n",
       "    .dataframe tbody tr th {\n",
       "        vertical-align: top;\n",
       "    }\n",
       "\n",
       "    .dataframe thead th {\n",
       "        text-align: right;\n",
       "    }\n",
       "</style>\n",
       "<table border=\"1\" class=\"dataframe\">\n",
       "  <thead>\n",
       "    <tr style=\"text-align: right;\">\n",
       "      <th>Cluster</th>\n",
       "      <th>0</th>\n",
       "      <th>1</th>\n",
       "      <th>2</th>\n",
       "    </tr>\n",
       "  </thead>\n",
       "  <tbody>\n",
       "    <tr>\n",
       "      <th>Luas Tanah (m2) Average</th>\n",
       "      <td>177.966667</td>\n",
       "      <td>516.215385</td>\n",
       "      <td>132.875817</td>\n",
       "    </tr>\n",
       "    <tr>\n",
       "      <th>Luas Tanah (m2) Minimum</th>\n",
       "      <td>47.0</td>\n",
       "      <td>200.0</td>\n",
       "      <td>14.0</td>\n",
       "    </tr>\n",
       "    <tr>\n",
       "      <th>Luas Tanah (m2) Maximum</th>\n",
       "      <td>495.0</td>\n",
       "      <td>1561.0</td>\n",
       "      <td>360.0</td>\n",
       "    </tr>\n",
       "    <tr>\n",
       "      <th>Luas Bangunan (m2) Average</th>\n",
       "      <td>207.888889</td>\n",
       "      <td>591.4</td>\n",
       "      <td>163.326797</td>\n",
       "    </tr>\n",
       "    <tr>\n",
       "      <th>Luas Bangunan (m2) Minimum</th>\n",
       "      <td>34.0</td>\n",
       "      <td>250.0</td>\n",
       "      <td>14.0</td>\n",
       "    </tr>\n",
       "    <tr>\n",
       "      <th>Luas Bangunan (m2) Maximum</th>\n",
       "      <td>500.0</td>\n",
       "      <td>1200.0</td>\n",
       "      <td>400.0</td>\n",
       "    </tr>\n",
       "    <tr>\n",
       "      <th>Harga Penawaran (dari Owner) Average</th>\n",
       "      <td>3223699999.977778</td>\n",
       "      <td>14233922907.661539</td>\n",
       "      <td>2150763682.418301</td>\n",
       "    </tr>\n",
       "    <tr>\n",
       "      <th>Harga Penawaran (dari Owner) Minimum</th>\n",
       "      <td>325000000.0</td>\n",
       "      <td>2500000000.0</td>\n",
       "      <td>160000000.0</td>\n",
       "    </tr>\n",
       "    <tr>\n",
       "      <th>Harga Penawaran (dari Owner) Maximum</th>\n",
       "      <td>19500000000.0</td>\n",
       "      <td>99000000000.0</td>\n",
       "      <td>8000000000.0</td>\n",
       "    </tr>\n",
       "    <tr>\n",
       "      <th>Area Category Mode</th>\n",
       "      <td>1.0</td>\n",
       "      <td>1.0</td>\n",
       "      <td>3.0</td>\n",
       "    </tr>\n",
       "    <tr>\n",
       "      <th>Area Category Minimum</th>\n",
       "      <td>0.0</td>\n",
       "      <td>0.0</td>\n",
       "      <td>0.0</td>\n",
       "    </tr>\n",
       "    <tr>\n",
       "      <th>Area Category Maximum</th>\n",
       "      <td>3.0</td>\n",
       "      <td>3.0</td>\n",
       "      <td>3.0</td>\n",
       "    </tr>\n",
       "    <tr>\n",
       "      <th>Jumlah Kamar Mode</th>\n",
       "      <td>4.0</td>\n",
       "      <td>5.0</td>\n",
       "      <td>4.0</td>\n",
       "    </tr>\n",
       "    <tr>\n",
       "      <th>Jumlah Kamar Minimum</th>\n",
       "      <td>2.0</td>\n",
       "      <td>3.0</td>\n",
       "      <td>1.0</td>\n",
       "    </tr>\n",
       "    <tr>\n",
       "      <th>Jumlah Kamar Maximum</th>\n",
       "      <td>7.0</td>\n",
       "      <td>13.0</td>\n",
       "      <td>7.0</td>\n",
       "    </tr>\n",
       "    <tr>\n",
       "      <th>Jumlah Kamar Mandi Mode</th>\n",
       "      <td>3.0, 4.0</td>\n",
       "      <td>5.0</td>\n",
       "      <td>2.0</td>\n",
       "    </tr>\n",
       "    <tr>\n",
       "      <th>Jumlah Kamar Mandi Minimum</th>\n",
       "      <td>1.0</td>\n",
       "      <td>2.0</td>\n",
       "      <td>1.0</td>\n",
       "    </tr>\n",
       "    <tr>\n",
       "      <th>Jumlah Kamar Mandi Maximum</th>\n",
       "      <td>7.0</td>\n",
       "      <td>13.0</td>\n",
       "      <td>6.0</td>\n",
       "    </tr>\n",
       "    <tr>\n",
       "      <th>Tingkat/Lantai  Mode</th>\n",
       "      <td>2.0</td>\n",
       "      <td>2.0</td>\n",
       "      <td>2.0</td>\n",
       "    </tr>\n",
       "    <tr>\n",
       "      <th>Tingkat/Lantai  Minimum</th>\n",
       "      <td>1.0</td>\n",
       "      <td>1.0</td>\n",
       "      <td>1.0</td>\n",
       "    </tr>\n",
       "    <tr>\n",
       "      <th>Tingkat/Lantai  Maximum</th>\n",
       "      <td>3.0</td>\n",
       "      <td>4.0</td>\n",
       "      <td>3.0</td>\n",
       "    </tr>\n",
       "    <tr>\n",
       "      <th>Terjual/Belum Mode</th>\n",
       "      <td>0.0</td>\n",
       "      <td>0.0</td>\n",
       "      <td>0.0</td>\n",
       "    </tr>\n",
       "    <tr>\n",
       "      <th>Terjual/Belum Minimum</th>\n",
       "      <td>0.0</td>\n",
       "      <td>0.0</td>\n",
       "      <td>0.0</td>\n",
       "    </tr>\n",
       "    <tr>\n",
       "      <th>Terjual/Belum Maximum</th>\n",
       "      <td>0.0</td>\n",
       "      <td>0.0</td>\n",
       "      <td>0.0</td>\n",
       "    </tr>\n",
       "    <tr>\n",
       "      <th>Arah Hadap Rumah Mode</th>\n",
       "      <td>3.0</td>\n",
       "      <td>3.0</td>\n",
       "      <td>3.0</td>\n",
       "    </tr>\n",
       "    <tr>\n",
       "      <th>Arah Hadap Rumah Minimum</th>\n",
       "      <td>0.0</td>\n",
       "      <td>0.0</td>\n",
       "      <td>0.0</td>\n",
       "    </tr>\n",
       "    <tr>\n",
       "      <th>Arah Hadap Rumah Maximum</th>\n",
       "      <td>3.0</td>\n",
       "      <td>3.0</td>\n",
       "      <td>3.0</td>\n",
       "    </tr>\n",
       "    <tr>\n",
       "      <th>Posisi Rumah Mode</th>\n",
       "      <td>2.0</td>\n",
       "      <td>2.0</td>\n",
       "      <td>2.0</td>\n",
       "    </tr>\n",
       "    <tr>\n",
       "      <th>Posisi Rumah Minimum</th>\n",
       "      <td>2.0</td>\n",
       "      <td>0.0</td>\n",
       "      <td>0.0</td>\n",
       "    </tr>\n",
       "    <tr>\n",
       "      <th>Posisi Rumah Maximum</th>\n",
       "      <td>3.0</td>\n",
       "      <td>4.0</td>\n",
       "      <td>4.0</td>\n",
       "    </tr>\n",
       "    <tr>\n",
       "      <th>Lebar Jalan Depan Rumah (ROW) Mode</th>\n",
       "      <td>2.0</td>\n",
       "      <td>0.0</td>\n",
       "      <td>0.0</td>\n",
       "    </tr>\n",
       "    <tr>\n",
       "      <th>Lebar Jalan Depan Rumah (ROW) Minimum</th>\n",
       "      <td>1.0</td>\n",
       "      <td>0.0</td>\n",
       "      <td>0.0</td>\n",
       "    </tr>\n",
       "    <tr>\n",
       "      <th>Lebar Jalan Depan Rumah (ROW) Maximum</th>\n",
       "      <td>2.0</td>\n",
       "      <td>2.0</td>\n",
       "      <td>1.0</td>\n",
       "    </tr>\n",
       "  </tbody>\n",
       "</table>\n",
       "</div>"
      ],
      "text/plain": [
       "Cluster                                                0                   1  \\\n",
       "Luas Tanah (m2) Average                       177.966667          516.215385   \n",
       "Luas Tanah (m2) Minimum                             47.0               200.0   \n",
       "Luas Tanah (m2) Maximum                            495.0              1561.0   \n",
       "Luas Bangunan (m2) Average                    207.888889               591.4   \n",
       "Luas Bangunan (m2) Minimum                          34.0               250.0   \n",
       "Luas Bangunan (m2) Maximum                         500.0              1200.0   \n",
       "Harga Penawaran (dari Owner) Average   3223699999.977778  14233922907.661539   \n",
       "Harga Penawaran (dari Owner) Minimum         325000000.0        2500000000.0   \n",
       "Harga Penawaran (dari Owner) Maximum       19500000000.0       99000000000.0   \n",
       "Area Category Mode                                   1.0                 1.0   \n",
       "Area Category Minimum                                0.0                 0.0   \n",
       "Area Category Maximum                                3.0                 3.0   \n",
       "Jumlah Kamar Mode                                    4.0                 5.0   \n",
       "Jumlah Kamar Minimum                                 2.0                 3.0   \n",
       "Jumlah Kamar Maximum                                 7.0                13.0   \n",
       "Jumlah Kamar Mandi Mode                         3.0, 4.0                 5.0   \n",
       "Jumlah Kamar Mandi Minimum                           1.0                 2.0   \n",
       "Jumlah Kamar Mandi Maximum                           7.0                13.0   \n",
       "Tingkat/Lantai  Mode                                 2.0                 2.0   \n",
       "Tingkat/Lantai  Minimum                              1.0                 1.0   \n",
       "Tingkat/Lantai  Maximum                              3.0                 4.0   \n",
       "Terjual/Belum Mode                                   0.0                 0.0   \n",
       "Terjual/Belum Minimum                                0.0                 0.0   \n",
       "Terjual/Belum Maximum                                0.0                 0.0   \n",
       "Arah Hadap Rumah Mode                                3.0                 3.0   \n",
       "Arah Hadap Rumah Minimum                             0.0                 0.0   \n",
       "Arah Hadap Rumah Maximum                             3.0                 3.0   \n",
       "Posisi Rumah Mode                                    2.0                 2.0   \n",
       "Posisi Rumah Minimum                                 2.0                 0.0   \n",
       "Posisi Rumah Maximum                                 3.0                 4.0   \n",
       "Lebar Jalan Depan Rumah (ROW) Mode                   2.0                 0.0   \n",
       "Lebar Jalan Depan Rumah (ROW) Minimum                1.0                 0.0   \n",
       "Lebar Jalan Depan Rumah (ROW) Maximum                2.0                 2.0   \n",
       "\n",
       "Cluster                                                2  \n",
       "Luas Tanah (m2) Average                       132.875817  \n",
       "Luas Tanah (m2) Minimum                             14.0  \n",
       "Luas Tanah (m2) Maximum                            360.0  \n",
       "Luas Bangunan (m2) Average                    163.326797  \n",
       "Luas Bangunan (m2) Minimum                          14.0  \n",
       "Luas Bangunan (m2) Maximum                         400.0  \n",
       "Harga Penawaran (dari Owner) Average   2150763682.418301  \n",
       "Harga Penawaran (dari Owner) Minimum         160000000.0  \n",
       "Harga Penawaran (dari Owner) Maximum        8000000000.0  \n",
       "Area Category Mode                                   3.0  \n",
       "Area Category Minimum                                0.0  \n",
       "Area Category Maximum                                3.0  \n",
       "Jumlah Kamar Mode                                    4.0  \n",
       "Jumlah Kamar Minimum                                 1.0  \n",
       "Jumlah Kamar Maximum                                 7.0  \n",
       "Jumlah Kamar Mandi Mode                              2.0  \n",
       "Jumlah Kamar Mandi Minimum                           1.0  \n",
       "Jumlah Kamar Mandi Maximum                           6.0  \n",
       "Tingkat/Lantai  Mode                                 2.0  \n",
       "Tingkat/Lantai  Minimum                              1.0  \n",
       "Tingkat/Lantai  Maximum                              3.0  \n",
       "Terjual/Belum Mode                                   0.0  \n",
       "Terjual/Belum Minimum                                0.0  \n",
       "Terjual/Belum Maximum                                0.0  \n",
       "Arah Hadap Rumah Mode                                3.0  \n",
       "Arah Hadap Rumah Minimum                             0.0  \n",
       "Arah Hadap Rumah Maximum                             3.0  \n",
       "Posisi Rumah Mode                                    2.0  \n",
       "Posisi Rumah Minimum                                 0.0  \n",
       "Posisi Rumah Maximum                                 4.0  \n",
       "Lebar Jalan Depan Rumah (ROW) Mode                   0.0  \n",
       "Lebar Jalan Depan Rumah (ROW) Minimum                0.0  \n",
       "Lebar Jalan Depan Rumah (ROW) Maximum                1.0  "
      ]
     },
     "execution_count": 22,
     "metadata": {},
     "output_type": "execute_result"
    }
   ],
   "source": [
    "cluster_summary = {}\n",
    "\n",
    "numeric_columns = ['Luas Tanah (m2)', 'Luas Bangunan (m2)', 'Harga Penawaran (dari Owner)']\n",
    "categorical_columns = ['Area Category', 'Jumlah Kamar', 'Jumlah Kamar Mandi', 'Tingkat/Lantai ',\n",
    "                       'Terjual/Belum', 'Arah Hadap Rumah', 'Posisi Rumah', 'Lebar Jalan Depan Rumah (ROW)']\n",
    "\n",
    "\n",
    "grouped_data = data_original_df.groupby('Cluster')\n",
    "\n",
    "for column in numeric_columns:\n",
    "    cluster_summary[f'{column} Average'] = grouped_data[column].mean()\n",
    "    cluster_summary[f'{column} Minimum'] = grouped_data[column].min()\n",
    "    cluster_summary[f'{column} Maximum'] = grouped_data[column].max()\n",
    "\n",
    "for column in categorical_columns:\n",
    "    if column in data_original_df.columns:\n",
    "        cluster_summary[f'{column} Mode'] = grouped_data[column].agg(lambda x: ', '.join(map(str, x.mode())) if not x.mode().empty else None)\n",
    "        cluster_summary[f'{column} Minimum'] = grouped_data[column].min()\n",
    "        cluster_summary[f'{column} Maximum'] = grouped_data[column].max()\n",
    "    else:\n",
    "        print(f\"Column '{column}' not found in the dataframe.\")\n",
    "\n",
    "summary_df = pd.DataFrame(cluster_summary)\n",
    "\n",
    "summary_df.T"
   ]
  },
  {
   "cell_type": "code",
   "execution_count": 23,
   "metadata": {
    "colab": {
     "base_uri": "https://localhost:8080/",
     "height": 209
    },
    "id": "zkHim7jnHmqC",
    "outputId": "6f009956-524f-439d-de8c-2760ad503871"
   },
   "outputs": [
    {
     "data": {
      "text/html": [
       "<div>\n",
       "<style scoped>\n",
       "    .dataframe tbody tr th:only-of-type {\n",
       "        vertical-align: middle;\n",
       "    }\n",
       "\n",
       "    .dataframe tbody tr th {\n",
       "        vertical-align: top;\n",
       "    }\n",
       "\n",
       "    .dataframe thead th {\n",
       "        text-align: right;\n",
       "    }\n",
       "</style>\n",
       "<table border=\"1\" class=\"dataframe\">\n",
       "  <thead>\n",
       "    <tr style=\"text-align: right;\">\n",
       "      <th></th>\n",
       "      <th>KMeans</th>\n",
       "      <th>Count</th>\n",
       "    </tr>\n",
       "  </thead>\n",
       "  <tbody>\n",
       "    <tr>\n",
       "      <th>0</th>\n",
       "      <td>2</td>\n",
       "      <td>153</td>\n",
       "    </tr>\n",
       "    <tr>\n",
       "      <th>1</th>\n",
       "      <td>0</td>\n",
       "      <td>90</td>\n",
       "    </tr>\n",
       "    <tr>\n",
       "      <th>2</th>\n",
       "      <td>1</td>\n",
       "      <td>65</td>\n",
       "    </tr>\n",
       "  </tbody>\n",
       "</table>\n",
       "</div>"
      ],
      "text/plain": [
       "   KMeans  Count\n",
       "0       2    153\n",
       "1       0     90\n",
       "2       1     65"
      ]
     },
     "execution_count": 23,
     "metadata": {},
     "output_type": "execute_result"
    }
   ],
   "source": [
    "# count data from each cluster\n",
    "\n",
    "cluster_count = data_original_df['Cluster'].value_counts().reset_index()\n",
    "\n",
    "cluster_count.columns = ['KMeans', 'Count']\n",
    "\n",
    "cluster_count\n"
   ]
  },
  {
   "cell_type": "code",
   "execution_count": 24,
   "metadata": {
    "id": "K2eeKnk4PNyU"
   },
   "outputs": [
    {
     "name": "stdout",
     "output_type": "stream",
     "text": [
      "\n",
      "Cluster 0:\n",
      "This cluster has moderate-sized houses with an average land area of 177.97 m² and building area of 207.89 m².\n",
      "Offer prices are relatively lower compared to other clusters, averaging 3.22 billion IDR.\n",
      "Houses are mostly unsold, with most properties having 4 rooms and 3 bathrooms, situated on the 2nd floor.\n",
      "\n",
      "Cluster 1:\n",
      "Cluster 1 consists of larger properties, with an average land area of 516.22 m² and building area of 591.4 m².\n",
      "The offer prices are significantly higher, with an average of 14.23 billion IDR.\n",
      "These properties tend to be larger with 5 rooms and 5 bathrooms, often found on the 2nd to 4th floors, and are unsold.\n",
      "\n",
      "Cluster 2:\n",
      "Cluster 2 has smaller properties, with an average land area of 132.88 m² and building area of 163.33 m².\n",
      "Offer prices are the lowest in this cluster, averaging 2.15 billion IDR.\n",
      "These homes generally have 4 rooms and 2 bathrooms, located on the 1st to 3rd floors, and are also unsold.\n"
     ]
    }
   ],
   "source": [
    "# write down your interpretation from the cluster that you have been made\n",
    "\n",
    "# Cluster 0\n",
    "print(\"\\nCluster 0:\")\n",
    "print(\"This cluster has moderate-sized houses with an average land area of 177.97 m² and building area of 207.89 m².\")\n",
    "print(\"Offer prices are relatively lower compared to other clusters, averaging 3.22 billion IDR.\")\n",
    "print(\"Houses are mostly unsold, with most properties having 4 rooms and 3 bathrooms, situated on the 2nd floor.\")\n",
    "\n",
    "# Cluster 1\n",
    "print(\"\\nCluster 1:\")\n",
    "print(\"Cluster 1 consists of larger properties, with an average land area of 516.22 m² and building area of 591.4 m².\")\n",
    "print(\"The offer prices are significantly higher, with an average of 14.23 billion IDR.\")\n",
    "print(\"These properties tend to be larger with 5 rooms and 5 bathrooms, often found on the 2nd to 4th floors, and are unsold.\")\n",
    "\n",
    "# Cluster 2\n",
    "print(\"\\nCluster 2:\")\n",
    "print(\"Cluster 2 has smaller properties, with an average land area of 132.88 m² and building area of 163.33 m².\")\n",
    "print(\"Offer prices are the lowest in this cluster, averaging 2.15 billion IDR.\")\n",
    "print(\"These homes generally have 4 rooms and 2 bathrooms, located on the 1st to 3rd floors, and are also unsold.\")\n"
   ]
  },
  {
   "cell_type": "markdown",
   "metadata": {
    "id": "OZruhWh5BSt7"
   },
   "source": [
    "## Hierarchical Clustering\n",
    "Hierarchical clustering uses the agglomerative method."
   ]
  },
  {
   "cell_type": "code",
   "execution_count": 25,
   "metadata": {
    "colab": {
     "base_uri": "https://localhost:8080/",
     "height": 472
    },
    "id": "hLPZ-92ZKH9v",
    "outputId": "c1ca6d04-b34e-4c57-b91e-df4400352387"
   },
   "outputs": [
    {
     "data": {
      "text/plain": [
       "Text(0, 0.5, 'Silhouette Scores')"
      ]
     },
     "execution_count": 25,
     "metadata": {},
     "output_type": "execute_result"
    },
    {
     "data": {
      "image/png": "[encoded data removed]",
      "text/plain": [
       "<Figure size 1000x600 with 1 Axes>"
      ]
     },
     "metadata": {},
     "output_type": "display_data"
    }
   ],
   "source": [
    "# The image below is not the final result, if yours looks different, that’s okay.\n",
    "silhouette_scores = []\n",
    "for k in range(2,11):\n",
    "    cluster_labels = fcluster(linkage(data_scaled, method=\"ward\"), k, criterion='maxclust')\n",
    "    silhouette_avg = silhouette_score(data_scaled, cluster_labels)\n",
    "    silhouette_scores.append(silhouette_avg)\n",
    "\n",
    "plt.figure(figsize=(10, 6))\n",
    "plt.plot(range(2, 11), silhouette_scores, marker='o')\n",
    "plt.title('Silhouette Scores')\n",
    "plt.xlabel('Number of Clusters (K)')\n",
    "plt.ylabel('Silhouette Scores')"
   ]
  },
  {
   "cell_type": "markdown",
   "metadata": {
    "id": "JPMw9jAiJRsE"
   },
   "source": [
    "Perform hierarchical clustering with the Euclidean distance metric and set the number of clusters based on silhouette score."
   ]
  },
  {
   "cell_type": "code",
   "execution_count": 26,
   "metadata": {
    "id": "-3Ep2nP0JYIw"
   },
   "outputs": [
    {
     "data": {
      "text/plain": [
       "array([2, 2, 1, 2, 1, 1, 2, 2, 2, 2, 0, 2, 2, 2, 2, 0, 2, 2, 2, 2, 2, 2,\n",
       "       0, 2, 2, 0, 2, 2, 1, 0, 0, 1, 2, 2, 0, 0, 1, 1, 1, 1, 1, 0, 2, 2,\n",
       "       2, 2, 2, 2, 2, 2, 2, 2, 2, 2, 0, 2, 0, 2, 2, 2, 0, 2, 2, 2, 2, 2,\n",
       "       0, 2, 2, 2, 2, 2, 2, 0, 2, 1, 1, 1, 2, 0, 0, 2, 2, 2, 0, 2, 1, 2,\n",
       "       2, 2, 2, 0, 2, 0, 2, 2, 0, 2, 0, 0, 2, 0, 2, 2, 0, 0, 2, 2, 0, 0,\n",
       "       0, 2, 2, 0, 0, 0, 0, 2, 2, 1, 2, 0, 0, 0, 0, 2, 2, 2, 2, 0, 0, 1,\n",
       "       2, 2, 0, 2, 2, 2, 2, 0, 1, 0, 0, 1, 1, 1, 1, 1, 1, 1, 1, 1, 1, 2,\n",
       "       0, 2, 0, 1, 2, 1, 1, 0, 0, 2, 2, 0, 0, 0, 2, 2, 2, 2, 1, 2, 2, 1,\n",
       "       1, 2, 0, 2, 2, 0, 2, 2, 0, 1, 1, 2, 2, 2, 1, 2, 2, 1, 2, 1, 2, 0,\n",
       "       2, 2, 2, 2, 2, 2, 0, 2, 2, 1, 1, 0, 2, 2, 1, 2, 2, 2, 1, 1, 0, 1,\n",
       "       0, 1, 2, 1, 0, 1, 1, 1, 1, 0, 2, 0, 0, 0, 2, 0, 0, 1, 0, 0, 1, 0,\n",
       "       1, 2, 0, 1, 2, 0, 1, 1, 2, 0, 2, 2, 0, 2, 0, 0, 0, 1, 2, 0, 0, 0,\n",
       "       0, 0, 2, 0, 1, 1, 1, 2, 2, 1, 2, 2, 2, 0, 0, 2, 2, 0, 0, 0, 2, 0,\n",
       "       0, 0, 1, 0, 0, 1, 0, 0, 0, 2, 0, 1, 0, 1, 2, 0, 2, 0, 2, 2, 0, 0],\n",
       "      dtype=int64)"
      ]
     },
     "execution_count": 26,
     "metadata": {},
     "output_type": "execute_result"
    }
   ],
   "source": [
    "# agglomerative clustering\n",
    "hc = AgglomerativeClustering(n_clusters=3, metric='euclidean', linkage='ward')\n",
    "y_hc=hc.fit_predict(data_scaled)\n",
    "y_hc"
   ]
  },
  {
   "cell_type": "code",
   "execution_count": 27,
   "metadata": {
    "colab": {
     "base_uri": "https://localhost:8080/",
     "height": 240
    },
    "id": "iNPihcv49JcE",
    "outputId": "bb181e5e-6c22-481d-b0fe-1bae17c1b4ec"
   },
   "outputs": [
    {
     "name": "stderr",
     "output_type": "stream",
     "text": [
      "C:\\Anaconda\\Lib\\site-packages\\sklearn\\cluster\\_kmeans.py:1429: UserWarning: KMeans is known to have a memory leak on Windows with MKL, when there are less chunks than available threads. You can avoid it by setting the environment variable OMP_NUM_THREADS=2.\n",
      "  warnings.warn(\n"
     ]
    },
    {
     "data": {
      "text/plain": [
       "array([2, 2, 2, 2, 1, 1, 2, 2, 0, 2, 0, 2, 2, 2, 2, 0, 2, 2, 2, 2, 2, 2,\n",
       "       0, 2, 2, 0, 2, 2, 1, 0, 0, 1, 2, 2, 1, 1, 1, 1, 1, 1, 1, 0, 2, 2,\n",
       "       2, 2, 2, 2, 2, 2, 2, 2, 2, 2, 0, 2, 2, 2, 2, 2, 0, 2, 2, 2, 2, 2,\n",
       "       0, 2, 2, 2, 2, 2, 2, 2, 2, 1, 1, 1, 2, 0, 0, 2, 2, 2, 0, 2, 1, 2,\n",
       "       2, 2, 2, 0, 2, 0, 2, 2, 2, 2, 0, 0, 2, 0, 2, 2, 2, 0, 2, 2, 0, 2,\n",
       "       0, 2, 2, 0, 0, 0, 0, 2, 2, 1, 2, 0, 2, 0, 0, 2, 2, 2, 2, 0, 0, 1,\n",
       "       2, 2, 0, 2, 2, 1, 2, 0, 1, 0, 0, 1, 1, 1, 1, 1, 1, 1, 1, 1, 1, 2,\n",
       "       0, 2, 0, 1, 2, 1, 1, 0, 0, 2, 2, 2, 0, 0, 2, 2, 2, 2, 1, 2, 2, 1,\n",
       "       1, 2, 0, 2, 2, 2, 2, 2, 0, 1, 1, 2, 2, 2, 1, 2, 2, 0, 2, 1, 2, 0,\n",
       "       2, 2, 2, 2, 2, 2, 0, 2, 2, 1, 2, 2, 2, 2, 0, 2, 2, 2, 1, 1, 0, 1,\n",
       "       0, 1, 2, 1, 0, 1, 1, 1, 1, 0, 2, 0, 0, 0, 2, 0, 0, 1, 1, 0, 1, 0,\n",
       "       1, 2, 0, 1, 2, 0, 1, 1, 2, 0, 2, 2, 0, 2, 0, 0, 0, 1, 2, 0, 0, 0,\n",
       "       0, 0, 2, 0, 1, 1, 1, 2, 2, 1, 2, 2, 2, 0, 0, 2, 2, 0, 0, 0, 2, 0,\n",
       "       0, 0, 1, 0, 0, 1, 0, 0, 0, 2, 0, 1, 0, 1, 2, 0, 2, 0, 2, 2, 0, 0])"
      ]
     },
     "execution_count": 27,
     "metadata": {},
     "output_type": "execute_result"
    }
   ],
   "source": [
    "# Add the cluster labels to the original data that you have been added with kmeans so you have a full dataframe include kmeans and agglo clustering\n",
    "\n",
    "\n",
    "kmeans = KMeans(n_clusters=3, random_state=42)\n",
    "kmeans_labels = kmeans.fit_predict(data_scaled)\n",
    "kmeans_labels\n"
   ]
  },
  {
   "cell_type": "code",
   "execution_count": 28,
   "metadata": {},
   "outputs": [
    {
     "data": {
      "text/html": [
       "<div>\n",
       "<style scoped>\n",
       "    .dataframe tbody tr th:only-of-type {\n",
       "        vertical-align: middle;\n",
       "    }\n",
       "\n",
       "    .dataframe tbody tr th {\n",
       "        vertical-align: top;\n",
       "    }\n",
       "\n",
       "    .dataframe thead th {\n",
       "        text-align: right;\n",
       "    }\n",
       "</style>\n",
       "<table border=\"1\" class=\"dataframe\">\n",
       "  <thead>\n",
       "    <tr style=\"text-align: right;\">\n",
       "      <th></th>\n",
       "      <th>Area Category</th>\n",
       "      <th>Luas Tanah (m2)</th>\n",
       "      <th>Luas Bangunan (m2)</th>\n",
       "      <th>Jumlah Kamar</th>\n",
       "      <th>Jumlah Kamar Mandi</th>\n",
       "      <th>Tingkat/Lantai</th>\n",
       "      <th>Harga Penawaran (dari Owner)</th>\n",
       "      <th>Terjual/Belum</th>\n",
       "      <th>Arah Hadap Rumah</th>\n",
       "      <th>Posisi Rumah</th>\n",
       "      <th>Lebar Jalan Depan Rumah (ROW)</th>\n",
       "      <th>KMeans_Cluster</th>\n",
       "      <th>Agglo_Cluster</th>\n",
       "    </tr>\n",
       "  </thead>\n",
       "  <tbody>\n",
       "    <tr>\n",
       "      <th>0</th>\n",
       "      <td>3.0</td>\n",
       "      <td>240.0</td>\n",
       "      <td>300.0</td>\n",
       "      <td>4.0</td>\n",
       "      <td>3.0</td>\n",
       "      <td>2.0</td>\n",
       "      <td>3.500000e+09</td>\n",
       "      <td>0.0</td>\n",
       "      <td>3.0</td>\n",
       "      <td>2.0</td>\n",
       "      <td>0.0</td>\n",
       "      <td>2</td>\n",
       "      <td>2</td>\n",
       "    </tr>\n",
       "    <tr>\n",
       "      <th>1</th>\n",
       "      <td>0.0</td>\n",
       "      <td>30.0</td>\n",
       "      <td>60.0</td>\n",
       "      <td>2.0</td>\n",
       "      <td>1.0</td>\n",
       "      <td>2.0</td>\n",
       "      <td>2.877990e+08</td>\n",
       "      <td>0.0</td>\n",
       "      <td>3.0</td>\n",
       "      <td>2.0</td>\n",
       "      <td>1.0</td>\n",
       "      <td>2</td>\n",
       "      <td>2</td>\n",
       "    </tr>\n",
       "    <tr>\n",
       "      <th>2</th>\n",
       "      <td>3.0</td>\n",
       "      <td>170.0</td>\n",
       "      <td>170.0</td>\n",
       "      <td>5.0</td>\n",
       "      <td>4.0</td>\n",
       "      <td>2.0</td>\n",
       "      <td>2.700000e+09</td>\n",
       "      <td>0.0</td>\n",
       "      <td>1.0</td>\n",
       "      <td>0.0</td>\n",
       "      <td>0.0</td>\n",
       "      <td>2</td>\n",
       "      <td>1</td>\n",
       "    </tr>\n",
       "    <tr>\n",
       "      <th>3</th>\n",
       "      <td>2.0</td>\n",
       "      <td>187.0</td>\n",
       "      <td>250.0</td>\n",
       "      <td>5.0</td>\n",
       "      <td>5.0</td>\n",
       "      <td>2.0</td>\n",
       "      <td>3.100000e+09</td>\n",
       "      <td>0.0</td>\n",
       "      <td>3.0</td>\n",
       "      <td>2.0</td>\n",
       "      <td>0.0</td>\n",
       "      <td>2</td>\n",
       "      <td>2</td>\n",
       "    </tr>\n",
       "    <tr>\n",
       "      <th>4</th>\n",
       "      <td>1.0</td>\n",
       "      <td>350.0</td>\n",
       "      <td>600.0</td>\n",
       "      <td>5.0</td>\n",
       "      <td>5.0</td>\n",
       "      <td>2.0</td>\n",
       "      <td>5.000000e+09</td>\n",
       "      <td>0.0</td>\n",
       "      <td>0.0</td>\n",
       "      <td>2.0</td>\n",
       "      <td>0.0</td>\n",
       "      <td>1</td>\n",
       "      <td>1</td>\n",
       "    </tr>\n",
       "  </tbody>\n",
       "</table>\n",
       "</div>"
      ],
      "text/plain": [
       "   Area Category  Luas Tanah (m2)  Luas Bangunan (m2)  Jumlah Kamar  \\\n",
       "0            3.0            240.0               300.0           4.0   \n",
       "1            0.0             30.0                60.0           2.0   \n",
       "2            3.0            170.0               170.0           5.0   \n",
       "3            2.0            187.0               250.0           5.0   \n",
       "4            1.0            350.0               600.0           5.0   \n",
       "\n",
       "   Jumlah Kamar Mandi  Tingkat/Lantai   Harga Penawaran (dari Owner)  \\\n",
       "0                 3.0              2.0                  3.500000e+09   \n",
       "1                 1.0              2.0                  2.877990e+08   \n",
       "2                 4.0              2.0                  2.700000e+09   \n",
       "3                 5.0              2.0                  3.100000e+09   \n",
       "4                 5.0              2.0                  5.000000e+09   \n",
       "\n",
       "   Terjual/Belum  Arah Hadap Rumah  Posisi Rumah  \\\n",
       "0            0.0               3.0           2.0   \n",
       "1            0.0               3.0           2.0   \n",
       "2            0.0               1.0           0.0   \n",
       "3            0.0               3.0           2.0   \n",
       "4            0.0               0.0           2.0   \n",
       "\n",
       "   Lebar Jalan Depan Rumah (ROW)  KMeans_Cluster  Agglo_Cluster  \n",
       "0                            0.0               2              2  \n",
       "1                            1.0               2              2  \n",
       "2                            0.0               2              1  \n",
       "3                            0.0               2              2  \n",
       "4                            0.0               1              1  "
      ]
     },
     "execution_count": 28,
     "metadata": {},
     "output_type": "execute_result"
    }
   ],
   "source": [
    "# Extract only the original scaled feature data (assuming the first 11 columns are features)\n",
    "features_scaled = data_scaled.iloc[:, :11]  # Adjust the slice as needed if columns differ\n",
    "\n",
    "df_features_inverse = pd.DataFrame(scaler.inverse_transform(features_scaled), columns=features_scaled.columns)\n",
    "\n",
    "df_features_inverse['KMeans_Cluster'] = kmeans_labels\n",
    "df_features_inverse['Agglo_Cluster'] = y_hc\n",
    "\n",
    "df_features_inverse.head()\n"
   ]
  },
  {
   "cell_type": "markdown",
   "metadata": {
    "id": "lzXuHhs1JY72"
   },
   "source": [
    "Display the cluster summary in the form of a dataframe."
   ]
  },
  {
   "cell_type": "code",
   "execution_count": 29,
   "metadata": {
    "colab": {
     "base_uri": "https://localhost:8080/",
     "height": 206
    },
    "id": "7ZGhU79dNlXk",
    "outputId": "708fd945-2915-4497-8668-8ff867cfbf1c"
   },
   "outputs": [
    {
     "data": {
      "text/html": [
       "<div>\n",
       "<style scoped>\n",
       "    .dataframe tbody tr th:only-of-type {\n",
       "        vertical-align: middle;\n",
       "    }\n",
       "\n",
       "    .dataframe tbody tr th {\n",
       "        vertical-align: top;\n",
       "    }\n",
       "\n",
       "    .dataframe thead th {\n",
       "        text-align: right;\n",
       "    }\n",
       "</style>\n",
       "<table border=\"1\" class=\"dataframe\">\n",
       "  <thead>\n",
       "    <tr style=\"text-align: right;\">\n",
       "      <th>Agglo_Cluster</th>\n",
       "      <th>0</th>\n",
       "      <th>1</th>\n",
       "      <th>2</th>\n",
       "    </tr>\n",
       "  </thead>\n",
       "  <tbody>\n",
       "    <tr>\n",
       "      <th>Luas Tanah (m2) Mean</th>\n",
       "      <td>178.090909</td>\n",
       "      <td>514.307692</td>\n",
       "      <td>130.833333</td>\n",
       "    </tr>\n",
       "    <tr>\n",
       "      <th>Luas Tanah (m2) Min</th>\n",
       "      <td>34.0</td>\n",
       "      <td>170.0</td>\n",
       "      <td>14.0</td>\n",
       "    </tr>\n",
       "    <tr>\n",
       "      <th>Luas Tanah (m2) Max</th>\n",
       "      <td>495.0</td>\n",
       "      <td>1561.0</td>\n",
       "      <td>360.0</td>\n",
       "    </tr>\n",
       "    <tr>\n",
       "      <th>Luas Bangunan (m2) Mean</th>\n",
       "      <td>213.323232</td>\n",
       "      <td>581.061538</td>\n",
       "      <td>161.472222</td>\n",
       "    </tr>\n",
       "    <tr>\n",
       "      <th>Luas Bangunan (m2) Min</th>\n",
       "      <td>34.0</td>\n",
       "      <td>170.0</td>\n",
       "      <td>14.0</td>\n",
       "    </tr>\n",
       "    <tr>\n",
       "      <th>Luas Bangunan (m2) Max</th>\n",
       "      <td>600.0</td>\n",
       "      <td>1200.0</td>\n",
       "      <td>485.0</td>\n",
       "    </tr>\n",
       "    <tr>\n",
       "      <th>Harga Penawaran (dari Owner) Mean</th>\n",
       "      <td>3223806958.444445</td>\n",
       "      <td>14138538292.261538</td>\n",
       "      <td>2126687184.1875</td>\n",
       "    </tr>\n",
       "    <tr>\n",
       "      <th>Harga Penawaran (dari Owner) Min</th>\n",
       "      <td>325000000.0</td>\n",
       "      <td>2500000000.0</td>\n",
       "      <td>160000000.0</td>\n",
       "    </tr>\n",
       "    <tr>\n",
       "      <th>Harga Penawaran (dari Owner) Max</th>\n",
       "      <td>14500000000.0</td>\n",
       "      <td>99000000000.0</td>\n",
       "      <td>8000000000.0</td>\n",
       "    </tr>\n",
       "    <tr>\n",
       "      <th>Area Category Mode</th>\n",
       "      <td>1.0</td>\n",
       "      <td>1.0</td>\n",
       "      <td>3.0</td>\n",
       "    </tr>\n",
       "    <tr>\n",
       "      <th>Area Category Min</th>\n",
       "      <td>0.0</td>\n",
       "      <td>0.0</td>\n",
       "      <td>0.0</td>\n",
       "    </tr>\n",
       "    <tr>\n",
       "      <th>Area Category Max</th>\n",
       "      <td>3.0</td>\n",
       "      <td>3.0</td>\n",
       "      <td>3.0</td>\n",
       "    </tr>\n",
       "    <tr>\n",
       "      <th>Jumlah Kamar Mode</th>\n",
       "      <td>4.0</td>\n",
       "      <td>5.0</td>\n",
       "      <td>4.0</td>\n",
       "    </tr>\n",
       "    <tr>\n",
       "      <th>Jumlah Kamar Min</th>\n",
       "      <td>2.0</td>\n",
       "      <td>3.0</td>\n",
       "      <td>1.0</td>\n",
       "    </tr>\n",
       "    <tr>\n",
       "      <th>Jumlah Kamar Max</th>\n",
       "      <td>8.0</td>\n",
       "      <td>13.0</td>\n",
       "      <td>7.0</td>\n",
       "    </tr>\n",
       "    <tr>\n",
       "      <th>Jumlah Kamar Mandi Mode</th>\n",
       "      <td>3.0</td>\n",
       "      <td>5.0</td>\n",
       "      <td>2.0</td>\n",
       "    </tr>\n",
       "    <tr>\n",
       "      <th>Jumlah Kamar Mandi Min</th>\n",
       "      <td>1.0</td>\n",
       "      <td>2.0</td>\n",
       "      <td>1.0</td>\n",
       "    </tr>\n",
       "    <tr>\n",
       "      <th>Jumlah Kamar Mandi Max</th>\n",
       "      <td>7.0</td>\n",
       "      <td>13.0</td>\n",
       "      <td>6.0</td>\n",
       "    </tr>\n",
       "    <tr>\n",
       "      <th>Tingkat/Lantai  Mode</th>\n",
       "      <td>2.0</td>\n",
       "      <td>2.0</td>\n",
       "      <td>2.0</td>\n",
       "    </tr>\n",
       "    <tr>\n",
       "      <th>Tingkat/Lantai  Min</th>\n",
       "      <td>1.0</td>\n",
       "      <td>1.0</td>\n",
       "      <td>1.0</td>\n",
       "    </tr>\n",
       "    <tr>\n",
       "      <th>Tingkat/Lantai  Max</th>\n",
       "      <td>3.0</td>\n",
       "      <td>4.0</td>\n",
       "      <td>3.0</td>\n",
       "    </tr>\n",
       "    <tr>\n",
       "      <th>Terjual/Belum Mode</th>\n",
       "      <td>0.0</td>\n",
       "      <td>0.0</td>\n",
       "      <td>0.0</td>\n",
       "    </tr>\n",
       "    <tr>\n",
       "      <th>Terjual/Belum Min</th>\n",
       "      <td>0.0</td>\n",
       "      <td>0.0</td>\n",
       "      <td>0.0</td>\n",
       "    </tr>\n",
       "    <tr>\n",
       "      <th>Terjual/Belum Max</th>\n",
       "      <td>0.0</td>\n",
       "      <td>0.0</td>\n",
       "      <td>0.0</td>\n",
       "    </tr>\n",
       "    <tr>\n",
       "      <th>Arah Hadap Rumah Mode</th>\n",
       "      <td>3.0</td>\n",
       "      <td>3.0</td>\n",
       "      <td>3.0</td>\n",
       "    </tr>\n",
       "    <tr>\n",
       "      <th>Arah Hadap Rumah Min</th>\n",
       "      <td>0.0</td>\n",
       "      <td>0.0</td>\n",
       "      <td>0.0</td>\n",
       "    </tr>\n",
       "    <tr>\n",
       "      <th>Arah Hadap Rumah Max</th>\n",
       "      <td>3.0</td>\n",
       "      <td>3.0</td>\n",
       "      <td>3.0</td>\n",
       "    </tr>\n",
       "    <tr>\n",
       "      <th>Posisi Rumah Mode</th>\n",
       "      <td>2.0</td>\n",
       "      <td>2.0</td>\n",
       "      <td>2.0</td>\n",
       "    </tr>\n",
       "    <tr>\n",
       "      <th>Posisi Rumah Min</th>\n",
       "      <td>2.0</td>\n",
       "      <td>0.0</td>\n",
       "      <td>2.0</td>\n",
       "    </tr>\n",
       "    <tr>\n",
       "      <th>Posisi Rumah Max</th>\n",
       "      <td>4.0</td>\n",
       "      <td>3.0</td>\n",
       "      <td>3.0</td>\n",
       "    </tr>\n",
       "    <tr>\n",
       "      <th>Lebar Jalan Depan Rumah (ROW) Mode</th>\n",
       "      <td>2.0</td>\n",
       "      <td>0.0</td>\n",
       "      <td>0.0</td>\n",
       "    </tr>\n",
       "    <tr>\n",
       "      <th>Lebar Jalan Depan Rumah (ROW) Min</th>\n",
       "      <td>0.0</td>\n",
       "      <td>0.0</td>\n",
       "      <td>0.0</td>\n",
       "    </tr>\n",
       "    <tr>\n",
       "      <th>Lebar Jalan Depan Rumah (ROW) Max</th>\n",
       "      <td>2.0</td>\n",
       "      <td>2.0</td>\n",
       "      <td>1.0</td>\n",
       "    </tr>\n",
       "  </tbody>\n",
       "</table>\n",
       "</div>"
      ],
      "text/plain": [
       "Agglo_Cluster                                       0                   1  \\\n",
       "Luas Tanah (m2) Mean                       178.090909          514.307692   \n",
       "Luas Tanah (m2) Min                              34.0               170.0   \n",
       "Luas Tanah (m2) Max                             495.0              1561.0   \n",
       "Luas Bangunan (m2) Mean                    213.323232          581.061538   \n",
       "Luas Bangunan (m2) Min                           34.0               170.0   \n",
       "Luas Bangunan (m2) Max                          600.0              1200.0   \n",
       "Harga Penawaran (dari Owner) Mean   3223806958.444445  14138538292.261538   \n",
       "Harga Penawaran (dari Owner) Min          325000000.0        2500000000.0   \n",
       "Harga Penawaran (dari Owner) Max        14500000000.0       99000000000.0   \n",
       "Area Category Mode                                1.0                 1.0   \n",
       "Area Category Min                                 0.0                 0.0   \n",
       "Area Category Max                                 3.0                 3.0   \n",
       "Jumlah Kamar Mode                                 4.0                 5.0   \n",
       "Jumlah Kamar Min                                  2.0                 3.0   \n",
       "Jumlah Kamar Max                                  8.0                13.0   \n",
       "Jumlah Kamar Mandi Mode                           3.0                 5.0   \n",
       "Jumlah Kamar Mandi Min                            1.0                 2.0   \n",
       "Jumlah Kamar Mandi Max                            7.0                13.0   \n",
       "Tingkat/Lantai  Mode                              2.0                 2.0   \n",
       "Tingkat/Lantai  Min                               1.0                 1.0   \n",
       "Tingkat/Lantai  Max                               3.0                 4.0   \n",
       "Terjual/Belum Mode                                0.0                 0.0   \n",
       "Terjual/Belum Min                                 0.0                 0.0   \n",
       "Terjual/Belum Max                                 0.0                 0.0   \n",
       "Arah Hadap Rumah Mode                             3.0                 3.0   \n",
       "Arah Hadap Rumah Min                              0.0                 0.0   \n",
       "Arah Hadap Rumah Max                              3.0                 3.0   \n",
       "Posisi Rumah Mode                                 2.0                 2.0   \n",
       "Posisi Rumah Min                                  2.0                 0.0   \n",
       "Posisi Rumah Max                                  4.0                 3.0   \n",
       "Lebar Jalan Depan Rumah (ROW) Mode                2.0                 0.0   \n",
       "Lebar Jalan Depan Rumah (ROW) Min                 0.0                 0.0   \n",
       "Lebar Jalan Depan Rumah (ROW) Max                 2.0                 2.0   \n",
       "\n",
       "Agglo_Cluster                                     2  \n",
       "Luas Tanah (m2) Mean                     130.833333  \n",
       "Luas Tanah (m2) Min                            14.0  \n",
       "Luas Tanah (m2) Max                           360.0  \n",
       "Luas Bangunan (m2) Mean                  161.472222  \n",
       "Luas Bangunan (m2) Min                         14.0  \n",
       "Luas Bangunan (m2) Max                        485.0  \n",
       "Harga Penawaran (dari Owner) Mean   2126687184.1875  \n",
       "Harga Penawaran (dari Owner) Min        160000000.0  \n",
       "Harga Penawaran (dari Owner) Max       8000000000.0  \n",
       "Area Category Mode                              3.0  \n",
       "Area Category Min                               0.0  \n",
       "Area Category Max                               3.0  \n",
       "Jumlah Kamar Mode                               4.0  \n",
       "Jumlah Kamar Min                                1.0  \n",
       "Jumlah Kamar Max                                7.0  \n",
       "Jumlah Kamar Mandi Mode                         2.0  \n",
       "Jumlah Kamar Mandi Min                          1.0  \n",
       "Jumlah Kamar Mandi Max                          6.0  \n",
       "Tingkat/Lantai  Mode                            2.0  \n",
       "Tingkat/Lantai  Min                             1.0  \n",
       "Tingkat/Lantai  Max                             3.0  \n",
       "Terjual/Belum Mode                              0.0  \n",
       "Terjual/Belum Min                               0.0  \n",
       "Terjual/Belum Max                               0.0  \n",
       "Arah Hadap Rumah Mode                           3.0  \n",
       "Arah Hadap Rumah Min                            0.0  \n",
       "Arah Hadap Rumah Max                            3.0  \n",
       "Posisi Rumah Mode                               2.0  \n",
       "Posisi Rumah Min                                2.0  \n",
       "Posisi Rumah Max                                3.0  \n",
       "Lebar Jalan Depan Rumah (ROW) Mode              0.0  \n",
       "Lebar Jalan Depan Rumah (ROW) Min               0.0  \n",
       "Lebar Jalan Depan Rumah (ROW) Max               1.0  "
      ]
     },
     "execution_count": 29,
     "metadata": {},
     "output_type": "execute_result"
    }
   ],
   "source": [
    "\n",
    "cluster_summary = {}\n",
    "\n",
    "# Daftar kolom continuous dan categorical\n",
    "continuous_columns = ['Luas Tanah (m2)', 'Luas Bangunan (m2)', 'Harga Penawaran (dari Owner)']\n",
    "categorical_columns = ['Area Category', 'Jumlah Kamar', 'Jumlah Kamar Mandi', 'Tingkat/Lantai ',\n",
    "                       'Terjual/Belum', 'Arah Hadap Rumah', 'Posisi Rumah', 'Lebar Jalan Depan Rumah (ROW)']\n",
    "\n",
    "# Mengelompokkan data berdasarkan 'Cluster'\n",
    "grouped = df_features_inverse.groupby('Agglo_Cluster')\n",
    "\n",
    "for col in continuous_columns:\n",
    "    cluster_summary[f'{col} Mean'] = grouped[col].mean()\n",
    "    cluster_summary[f'{col} Min'] = grouped[col].min()\n",
    "    cluster_summary[f'{col} Max'] = grouped[col].max()\n",
    "\n",
    "for col in categorical_columns:\n",
    "    if col in data_original_df.columns:\n",
    "        cluster_summary[f'{col} Mode'] = grouped[col].agg(lambda x: ', '.join(map(str, x.mode())) if not x.mode().empty else None)\n",
    "        cluster_summary[f'{col} Min'] = grouped[col].min()\n",
    "        cluster_summary[f'{col} Max'] = grouped[col].max()\n",
    "    else:\n",
    "        print(f\"Column '{col}' Not Found\")\n",
    "\n",
    "cluster_summary_df = pd.DataFrame(cluster_summary)\n",
    "\n",
    "cluster_summary_df.T\n",
    "     \n"
   ]
  },
  {
   "cell_type": "code",
   "execution_count": 30,
   "metadata": {
    "colab": {
     "base_uri": "https://localhost:8080/",
     "height": 206
    },
    "id": "L95iG49xHiw-",
    "outputId": "a6ef6d5d-c3a5-4ebb-aa2f-e2544c39145e"
   },
   "outputs": [
    {
     "data": {
      "text/html": [
       "<div>\n",
       "<style scoped>\n",
       "    .dataframe tbody tr th:only-of-type {\n",
       "        vertical-align: middle;\n",
       "    }\n",
       "\n",
       "    .dataframe tbody tr th {\n",
       "        vertical-align: top;\n",
       "    }\n",
       "\n",
       "    .dataframe thead th {\n",
       "        text-align: right;\n",
       "    }\n",
       "</style>\n",
       "<table border=\"1\" class=\"dataframe\">\n",
       "  <thead>\n",
       "    <tr style=\"text-align: right;\">\n",
       "      <th></th>\n",
       "      <th>KMeans</th>\n",
       "      <th>Count</th>\n",
       "    </tr>\n",
       "  </thead>\n",
       "  <tbody>\n",
       "    <tr>\n",
       "      <th>0</th>\n",
       "      <td>2</td>\n",
       "      <td>144</td>\n",
       "    </tr>\n",
       "    <tr>\n",
       "      <th>1</th>\n",
       "      <td>0</td>\n",
       "      <td>99</td>\n",
       "    </tr>\n",
       "    <tr>\n",
       "      <th>2</th>\n",
       "      <td>1</td>\n",
       "      <td>65</td>\n",
       "    </tr>\n",
       "  </tbody>\n",
       "</table>\n",
       "</div>"
      ],
      "text/plain": [
       "   KMeans  Count\n",
       "0       2    144\n",
       "1       0     99\n",
       "2       1     65"
      ]
     },
     "execution_count": 30,
     "metadata": {},
     "output_type": "execute_result"
    }
   ],
   "source": [
    "cluster_summary = df_features_inverse['Agglo_Cluster'].value_counts().reset_index()\n",
    "\n",
    "cluster_summary.columns = ['KMeans', 'Count']\n",
    "\n",
    "cluster_summary"
   ]
  },
  {
   "cell_type": "code",
   "execution_count": null,
   "metadata": {
    "colab": {
     "base_uri": "https://localhost:8080/",
     "height": 209
    },
    "id": "41xVNZP4IJIj",
    "outputId": "964873c1-6960-4e1a-fb1c-5651f9eea3be"
   },
   "outputs": [],
   "source": []
  },
  {
   "cell_type": "code",
   "execution_count": 31,
   "metadata": {
    "id": "mDFCr5njP7Rf"
   },
   "outputs": [
    {
     "name": "stdout",
     "output_type": "stream",
     "text": [
      "\n",
      "Cluster 1 represents high-end, large-scale, and premium properties, likely appealing to affluent buyers. However, the data shows no sales yet, possibly indicating overpriced or niche markets.\n",
      "Cluster 0 features medium-scale properties that cater to middle-class buyers, but accessibility (narrower roads) and pricing may affect market uptake.\n",
      "Cluster 2 targets budget-conscious buyers with smaller, affordable properties. However, extremely narrow road access and lack of sales suggest challenges in marketability.\n",
      "The clusters align with distinct market segments, helping identify property traits for targeted marketing or improvement.\n",
      "\n"
     ]
    }
   ],
   "source": [
    "print(\"\"\"\n",
    "Cluster 1 represents high-end, large-scale, and premium properties, likely appealing to affluent buyers. However, the data shows no sales yet, possibly indicating overpriced or niche markets.\n",
    "Cluster 0 features medium-scale properties that cater to middle-class buyers, but accessibility (narrower roads) and pricing may affect market uptake.\n",
    "Cluster 2 targets budget-conscious buyers with smaller, affordable properties. However, extremely narrow road access and lack of sales suggest challenges in marketability.\n",
    "The clusters align with distinct market segments, helping identify property traits for targeted marketing or improvement.\n",
    "\"\"\")\n"
   ]
  },
  {
   "cell_type": "markdown",
   "metadata": {
    "id": "wU9hSggw_oQ1"
   },
   "source": [
    "**Hierarchical Visualization**"
   ]
  },
  {
   "cell_type": "markdown",
   "metadata": {
    "id": "6qpiPUi_qV19"
   },
   "source": [
    "Single Linkage"
   ]
  },
  {
   "cell_type": "code",
   "execution_count": 33,
   "metadata": {
    "colab": {
     "base_uri": "https://localhost:8080/",
     "height": 641
    },
    "id": "2r064c_9qLU9",
    "outputId": "e73c3418-638e-4b52-93eb-52efdd741eb1"
   },
   "outputs": [
    {
     "data": {
      "image/png": "[encoded data removed]",
      "text/plain": [
       "<Figure size 1500x1000 with 4 Axes>"
      ]
     },
     "metadata": {},
     "output_type": "display_data"
    }
   ],
   "source": [
    "linkage_methods = {\n",
    "    \"Single Linkage\": \"single\",\n",
    "    \"Complete Linkage\": \"complete\",\n",
    "    \"Average Linkage\": \"average\",\n",
    "    \"Ward Method\": \"ward\"\n",
    "}\n",
    "\n",
    "fig, axes = plt.subplots(2, 2, figsize=(15, 10))\n",
    "axes = axes.ravel()\n",
    "\n",
    "for i, (title, method) in enumerate(linkage_methods.items()):\n",
    "    linked = linkage(data_scaled, method=method)\n",
    "    dendrogram(linked, ax=axes[i], leaf_rotation=90, leaf_font_size=10)\n",
    "    axes[i].set_title(title)\n",
    "\n",
    "# Adjust layout\n",
    "plt.tight_layout()\n",
    "plt.show()"
   ]
  },
  {
   "cell_type": "markdown",
   "metadata": {
    "id": "NLXusmjnqiKs"
   },
   "source": [
    "complete linkage"
   ]
  },
  {
   "cell_type": "code",
   "execution_count": null,
   "metadata": {
    "colab": {
     "base_uri": "https://localhost:8080/",
     "height": 641
    },
    "id": "nY9cZ22PqmDv",
    "outputId": "8315f421-3b81-4f50-d411-6dc8b2dce796"
   },
   "outputs": [],
   "source": []
  },
  {
   "cell_type": "markdown",
   "metadata": {
    "id": "KTzdIUgBqxlv"
   },
   "source": [
    "average linkage"
   ]
  },
  {
   "cell_type": "code",
   "execution_count": null,
   "metadata": {
    "colab": {
     "base_uri": "https://localhost:8080/",
     "height": 641
    },
    "id": "SDVKBXKxq12g",
    "outputId": "565f3c45-6d8c-4e15-d710-b9d5e8111944"
   },
   "outputs": [],
   "source": []
  },
  {
   "cell_type": "markdown",
   "metadata": {
    "id": "Dh9oOv59q9E5"
   },
   "source": [
    "ward method"
   ]
  },
  {
   "cell_type": "code",
   "execution_count": null,
   "metadata": {
    "colab": {
     "base_uri": "https://localhost:8080/",
     "height": 641
    },
    "id": "6315xN-arAp9",
    "outputId": "bc158e2d-6d1b-403e-f14b-72d2bd26cddf"
   },
   "outputs": [],
   "source": []
  }
 ],
 "metadata": {
  "colab": {
   "provenance": []
  },
  "kernelspec": {
   "display_name": "Python 3 (ipykernel)",
   "language": "python",
   "name": "python3"
  },
  "language_info": {
   "codemirror_mode": {
    "name": "ipython",
    "version": 3
   },
   "file_extension": ".py",
   "mimetype": "text/x-python",
   "name": "python",
   "nbconvert_exporter": "python",
   "pygments_lexer": "ipython3",
   "version": "3.11.8"
  }
 },
 "nbformat": 4,
 "nbformat_minor": 4
}
